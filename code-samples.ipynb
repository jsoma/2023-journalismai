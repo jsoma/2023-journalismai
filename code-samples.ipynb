{
 "cells": [
  {
   "cell_type": "markdown",
   "id": "6a5a7e98",
   "metadata": {},
   "source": [
    "## Installing prerequisites"
   ]
  },
  {
   "cell_type": "code",
   "execution_count": 111,
   "id": "44c41035",
   "metadata": {},
   "outputs": [
    {
     "name": "stdout",
     "output_type": "stream",
     "text": [
      "\r\n",
      "\u001b[1m[\u001b[0m\u001b[34;49mnotice\u001b[0m\u001b[1;39;49m]\u001b[0m\u001b[39;49m A new release of pip available: \u001b[0m\u001b[31;49m22.3.1\u001b[0m\u001b[39;49m -> \u001b[0m\u001b[32;49m23.2.1\u001b[0m\r\n",
      "\u001b[1m[\u001b[0m\u001b[34;49mnotice\u001b[0m\u001b[1;39;49m]\u001b[0m\u001b[39;49m To update, run: \u001b[0m\u001b[32;49mpython -m pip install --upgrade pip\u001b[0m\r\n"
     ]
    }
   ],
   "source": [
    "!pip install -q --upgrade torch transformers \\\n",
    "    sentence-transformers sentencepiece \\\n",
    "    protobuf==3.20 pystemmer eli5 \\\n",
    "    openai-whisper scikit-learn \\\n",
    "    openai langchain==0.0.198"
   ]
  },
  {
   "cell_type": "markdown",
   "id": "38a5f97c",
   "metadata": {},
   "source": [
    "## Downloading our data"
   ]
  },
  {
   "cell_type": "code",
   "execution_count": null,
   "id": "8fc2cb71",
   "metadata": {},
   "outputs": [],
   "source": [
    "!wget https://raw.githubusercontent.com/jsoma/2023-journalismai/main/book.txt\n",
    "!wget https://raw.githubusercontent.com/jsoma/2023-journalismai/main/folktale.txt\n",
    "!wget https://raw.githubusercontent.com/jsoma/2023-journalismai/main/wapo-reviews-marked.csv\n",
    "!wget https://raw.githubusercontent.com/jsoma/2023-journalismai/main/nytimes-story.txt\n",
    "!wget https://raw.githubusercontent.com/jsoma/2023-journalismai/main/6313.mp3"
   ]
  },
  {
   "cell_type": "markdown",
   "id": "d3b1965d",
   "metadata": {},
   "source": [
    "## Sentiment analysis\n",
    "\n",
    "Sentiment analysis is a judge of whether a text is **positive** or **negative**."
   ]
  },
  {
   "cell_type": "code",
   "execution_count": 116,
   "id": "3f272850",
   "metadata": {},
   "outputs": [
    {
     "name": "stderr",
     "output_type": "stream",
     "text": [
      "No model was supplied, defaulted to distilbert-base-uncased-finetuned-sst-2-english and revision af0f99b (https://huggingface.co/distilbert-base-uncased-finetuned-sst-2-english).\n",
      "Using a pipeline without specifying a model name and revision in production is not recommended.\n"
     ]
    },
    {
     "data": {
      "text/plain": [
       "[{'label': 'POSITIVE', 'score': 0.9994644522666931}]"
      ]
     },
     "execution_count": 116,
     "metadata": {},
     "output_type": "execute_result"
    }
   ],
   "source": [
    "sentiment_pipeline = pipeline(\"sentiment-analysis\")\n",
    "data = [\"I love sandwiches\"]\n",
    "sentiment_pipeline(data)"
   ]
  },
  {
   "cell_type": "markdown",
   "id": "c79ebdc7",
   "metadata": {},
   "source": [
    "Oh, it looks like we should [specify a model?](https://huggingface.co/models) Let's just use the default."
   ]
  },
  {
   "cell_type": "code",
   "execution_count": 117,
   "id": "9efecee6",
   "metadata": {},
   "outputs": [
    {
     "data": {
      "text/plain": [
       "[{'label': 'POSITIVE', 'score': 0.9994644522666931}]"
      ]
     },
     "execution_count": 117,
     "metadata": {},
     "output_type": "execute_result"
    }
   ],
   "source": [
    "sentiment_pipeline = pipeline(\"sentiment-analysis\",\n",
    "                             model=\"distilbert-base-uncased-finetuned-sst-2-english\")\n",
    "data = [\"I love sandwiches\"]\n",
    "sentiment_pipeline(data)"
   ]
  },
  {
   "cell_type": "code",
   "execution_count": 118,
   "id": "a9463fe0",
   "metadata": {},
   "outputs": [
    {
     "data": {
      "text/plain": [
       "[{'label': 'POSITIVE', 'score': 0.9986036419868469}]"
      ]
     },
     "execution_count": 118,
     "metadata": {},
     "output_type": "execute_result"
    }
   ],
   "source": [
    "sentiment_pipeline = pipeline(\"sentiment-analysis\",\n",
    "                             model=\"distilbert-base-uncased-finetuned-sst-2-english\")\n",
    "data = [\"j'adore les sandwichs\"]\n",
    "sentiment_pipeline(data)"
   ]
  },
  {
   "cell_type": "code",
   "execution_count": 120,
   "id": "f408923c",
   "metadata": {},
   "outputs": [
    {
     "data": {
      "text/plain": [
       "[{'label': 'POSITIVE', 'score': 0.6742483377456665}]"
      ]
     },
     "execution_count": 120,
     "metadata": {},
     "output_type": "execute_result"
    }
   ],
   "source": [
    "sentiment_pipeline = pipeline(\"sentiment-analysis\",\n",
    "                             model=\"distilbert-base-uncased-finetuned-sst-2-english\")\n",
    "data = [\"я люблю бутерброды\"]\n",
    "sentiment_pipeline(data)"
   ]
  },
  {
   "cell_type": "markdown",
   "id": "f293cf16",
   "metadata": {},
   "source": [
    "If we want to try another one, we can look at [the most popular ones](https://huggingface.co/models?pipeline_tag=text-classification&sort=downloads&search=sentiment)."
   ]
  },
  {
   "cell_type": "code",
   "execution_count": 121,
   "id": "61335b97",
   "metadata": {},
   "outputs": [
    {
     "data": {
      "text/plain": [
       "[{'label': 'positive', 'score': 0.7812552452087402}]"
      ]
     },
     "execution_count": 121,
     "metadata": {},
     "output_type": "execute_result"
    }
   ],
   "source": [
    "sentiment_pipeline = pipeline(\"sentiment-analysis\",\n",
    "                             model=\"cardiffnlp/twitter-xlm-roberta-base-sentiment\")\n",
    "data = [\"я люблю бутерброды\"]\n",
    "sentiment_pipeline(data)"
   ]
  },
  {
   "cell_type": "markdown",
   "id": "bc0be69d",
   "metadata": {},
   "source": [
    "## Classification\n",
    "\n",
    "**Classification** is a classic problem in investigative journalism.\n",
    "\n",
    "You have a lot of documents: how do you find the ones you're interested in?\n",
    "\n",
    "- Atlanta Journal-Constitution: [Doctors & Sex Abuse: Still forgiven](https://doctors.ajc.com/)\n",
    "- Washington Post: [Apple says its App Store is ‘a safe and trusted place.’ We found 1,500 reports of unwanted sexual behavior on six apps, some targeting minors.](https://www.washingtonpost.com/technology/2019/11/22/apple-says-its-app-store-is-safe-trusted-place-we-found-reports-unwanted-sexual-behavior-six-apps-some-targeting-minors/)"
   ]
  },
  {
   "cell_type": "markdown",
   "id": "7d01595b",
   "metadata": {},
   "source": [
    "### The old approach\n",
    "\n",
    "Historically, you labeled a subset, then used a **machine learning algorithm** that scored the rest of them."
   ]
  },
  {
   "cell_type": "code",
   "execution_count": 22,
   "id": "c2ccd15b",
   "metadata": {},
   "outputs": [
    {
     "data": {
      "text/html": [
       "<div>\n",
       "<style scoped>\n",
       "    .dataframe tbody tr th:only-of-type {\n",
       "        vertical-align: middle;\n",
       "    }\n",
       "\n",
       "    .dataframe tbody tr th {\n",
       "        vertical-align: top;\n",
       "    }\n",
       "\n",
       "    .dataframe thead th {\n",
       "        text-align: right;\n",
       "    }\n",
       "</style>\n",
       "<table border=\"1\" class=\"dataframe\">\n",
       "  <thead>\n",
       "    <tr style=\"text-align: right;\">\n",
       "      <th></th>\n",
       "      <th>Rating</th>\n",
       "      <th>Review</th>\n",
       "      <th>source</th>\n",
       "      <th>racism</th>\n",
       "      <th>bullying</th>\n",
       "      <th>sexual</th>\n",
       "    </tr>\n",
       "  </thead>\n",
       "  <tbody>\n",
       "    <tr>\n",
       "      <th>0</th>\n",
       "      <td>5</td>\n",
       "      <td>It’s a great app to meet new people and chat in very satisfied with downloading this app i recommend this app if you like to chat or just to meet new people. And you can choose which country To find different users!</td>\n",
       "      <td>holla</td>\n",
       "      <td>NaN</td>\n",
       "      <td>NaN</td>\n",
       "      <td>NaN</td>\n",
       "    </tr>\n",
       "    <tr>\n",
       "      <th>1</th>\n",
       "      <td>5</td>\n",
       "      <td>Holla is an excellent app, where I get to know new people every time and even get to make new friends. I truly recommend this application to all people!</td>\n",
       "      <td>holla</td>\n",
       "      <td>NaN</td>\n",
       "      <td>NaN</td>\n",
       "      <td>NaN</td>\n",
       "    </tr>\n",
       "    <tr>\n",
       "      <th>2</th>\n",
       "      <td>1</td>\n",
       "      <td>Get rid of micro transactions or i will find a new app to use. Why should i have to pay for that it’s so stupid</td>\n",
       "      <td>holla</td>\n",
       "      <td>0.0</td>\n",
       "      <td>0.0</td>\n",
       "      <td>0.0</td>\n",
       "    </tr>\n",
       "    <tr>\n",
       "      <th>3</th>\n",
       "      <td>5</td>\n",
       "      <td>Free to use app, meet people around the world.</td>\n",
       "      <td>holla</td>\n",
       "      <td>NaN</td>\n",
       "      <td>NaN</td>\n",
       "      <td>NaN</td>\n",
       "    </tr>\n",
       "    <tr>\n",
       "      <th>4</th>\n",
       "      <td>5</td>\n",
       "      <td>I got this app and everything has been different. I’ve met so many interesting people. From around the world. I was recently reunited with my high school girlfriend. We’re getting married. I met and married The love of my Life thanks to Holla. Thanks Holla!!!!!</td>\n",
       "      <td>holla</td>\n",
       "      <td>NaN</td>\n",
       "      <td>NaN</td>\n",
       "      <td>NaN</td>\n",
       "    </tr>\n",
       "  </tbody>\n",
       "</table>\n",
       "</div>"
      ],
      "text/plain": [
       "   Rating  \\\n",
       "0       5   \n",
       "1       5   \n",
       "2       1   \n",
       "3       5   \n",
       "4       5   \n",
       "\n",
       "                                                                                                                                                                                                                                                                  Review  \\\n",
       "0                                                It’s a great app to meet new people and chat in very satisfied with downloading this app i recommend this app if you like to chat or just to meet new people. And you can choose which country To find different users!   \n",
       "1                                                                                                               Holla is an excellent app, where I get to know new people every time and even get to make new friends. I truly recommend this application to all people!   \n",
       "2                                                                                                                                                        Get rid of micro transactions or i will find a new app to use. Why should i have to pay for that it’s so stupid   \n",
       "3                                                                                                                                                                                                                         Free to use app, meet people around the world.   \n",
       "4  I got this app and everything has been different. I’ve met so many interesting people. From around the world. I was recently reunited with my high school girlfriend. We’re getting married. I met and married The love of my Life thanks to Holla. Thanks Holla!!!!!   \n",
       "\n",
       "  source  racism  bullying  sexual  \n",
       "0  holla     NaN       NaN     NaN  \n",
       "1  holla     NaN       NaN     NaN  \n",
       "2  holla     0.0       0.0     0.0  \n",
       "3  holla     NaN       NaN     NaN  \n",
       "4  holla     NaN       NaN     NaN  "
      ]
     },
     "execution_count": 22,
     "metadata": {},
     "output_type": "execute_result"
    }
   ],
   "source": [
    "import pandas as pd\n",
    "pd.set_option(\"display.max_colwidth\", 300)\n",
    "\n",
    "df = pd.read_csv(\"wapo-reviews-marked.csv\")\n",
    "df.head()"
   ]
  },
  {
   "cell_type": "code",
   "execution_count": 23,
   "id": "003573f6",
   "metadata": {},
   "outputs": [],
   "source": [
    "known = df[df.sexual.notna()].copy()\n",
    "unknown = df[df.sexual.isna()].copy()"
   ]
  },
  {
   "cell_type": "code",
   "execution_count": 24,
   "id": "6c20c634",
   "metadata": {},
   "outputs": [
    {
     "data": {
      "text/html": [
       "<div>\n",
       "<style scoped>\n",
       "    .dataframe tbody tr th:only-of-type {\n",
       "        vertical-align: middle;\n",
       "    }\n",
       "\n",
       "    .dataframe tbody tr th {\n",
       "        vertical-align: top;\n",
       "    }\n",
       "\n",
       "    .dataframe thead th {\n",
       "        text-align: right;\n",
       "    }\n",
       "</style>\n",
       "<table border=\"1\" class=\"dataframe\">\n",
       "  <thead>\n",
       "    <tr style=\"text-align: right;\">\n",
       "      <th></th>\n",
       "      <th>Rating</th>\n",
       "      <th>Review</th>\n",
       "      <th>source</th>\n",
       "      <th>racism</th>\n",
       "      <th>bullying</th>\n",
       "      <th>sexual</th>\n",
       "    </tr>\n",
       "  </thead>\n",
       "  <tbody>\n",
       "    <tr>\n",
       "      <th>2</th>\n",
       "      <td>1</td>\n",
       "      <td>Get rid of micro transactions or i will find a new app to use. Why should i have to pay for that it’s so stupid</td>\n",
       "      <td>holla</td>\n",
       "      <td>0.0</td>\n",
       "      <td>0.0</td>\n",
       "      <td>0.0</td>\n",
       "    </tr>\n",
       "    <tr>\n",
       "      <th>6</th>\n",
       "      <td>1</td>\n",
       "      <td>This is good but most of my messages never show up. This is very crapy and needs to be fixed</td>\n",
       "      <td>skout</td>\n",
       "      <td>0.0</td>\n",
       "      <td>0.0</td>\n",
       "      <td>0.0</td>\n",
       "    </tr>\n",
       "    <tr>\n",
       "      <th>8</th>\n",
       "      <td>1</td>\n",
       "      <td>I was really enjoying this app. This brought me out of the box. I’m an extremely shy person and this gave me somewhere to talk to nice people. I just got kicked of bc I’m 16 not “18” and I think that this change it kind of stupid bc yeah it’s for protection but like someone else said all you hav...</td>\n",
       "      <td>holla</td>\n",
       "      <td>0.0</td>\n",
       "      <td>0.0</td>\n",
       "      <td>0.0</td>\n",
       "    </tr>\n",
       "    <tr>\n",
       "      <th>13</th>\n",
       "      <td>1</td>\n",
       "      <td>It won’t lemme go live or anything like I think you fixed it for everyone but me and now it says I’m banned for no reason I didn’t even do anything</td>\n",
       "      <td>holla</td>\n",
       "      <td>0.0</td>\n",
       "      <td>0.0</td>\n",
       "      <td>0.0</td>\n",
       "    </tr>\n",
       "    <tr>\n",
       "      <th>15</th>\n",
       "      <td>1</td>\n",
       "      <td>No real ppl all fake or no reply</td>\n",
       "      <td>skout</td>\n",
       "      <td>0.0</td>\n",
       "      <td>0.0</td>\n",
       "      <td>0.0</td>\n",
       "    </tr>\n",
       "  </tbody>\n",
       "</table>\n",
       "</div>"
      ],
      "text/plain": [
       "    Rating  \\\n",
       "2        1   \n",
       "6        1   \n",
       "8        1   \n",
       "13       1   \n",
       "15       1   \n",
       "\n",
       "                                                                                                                                                                                                                                                                                                         Review  \\\n",
       "2                                                                                                                                                                                               Get rid of micro transactions or i will find a new app to use. Why should i have to pay for that it’s so stupid   \n",
       "6                                                                                                                                                                                                                  This is good but most of my messages never show up. This is very crapy and needs to be fixed   \n",
       "8   I was really enjoying this app. This brought me out of the box. I’m an extremely shy person and this gave me somewhere to talk to nice people. I just got kicked of bc I’m 16 not “18” and I think that this change it kind of stupid bc yeah it’s for protection but like someone else said all you hav...   \n",
       "13                                                                                                                                                          It won’t lemme go live or anything like I think you fixed it for everyone but me and now it says I’m banned for no reason I didn’t even do anything   \n",
       "15                                                                                                                                                                                                                                                                             No real ppl all fake or no reply   \n",
       "\n",
       "   source  racism  bullying  sexual  \n",
       "2   holla     0.0       0.0     0.0  \n",
       "6   skout     0.0       0.0     0.0  \n",
       "8   holla     0.0       0.0     0.0  \n",
       "13  holla     0.0       0.0     0.0  \n",
       "15  skout     0.0       0.0     0.0  "
      ]
     },
     "execution_count": 24,
     "metadata": {},
     "output_type": "execute_result"
    }
   ],
   "source": [
    "known.head()"
   ]
  },
  {
   "cell_type": "code",
   "execution_count": 25,
   "id": "5578c746",
   "metadata": {},
   "outputs": [
    {
     "name": "stdout",
     "output_type": "stream",
     "text": [
      "CPU times: user 30.2 ms, sys: 7.67 ms, total: 37.9 ms\n",
      "Wall time: 35.8 ms\n"
     ]
    },
    {
     "data": {
      "text/html": [
       "<div>\n",
       "<style scoped>\n",
       "    .dataframe tbody tr th:only-of-type {\n",
       "        vertical-align: middle;\n",
       "    }\n",
       "\n",
       "    .dataframe tbody tr th {\n",
       "        vertical-align: top;\n",
       "    }\n",
       "\n",
       "    .dataframe thead th {\n",
       "        text-align: right;\n",
       "    }\n",
       "</style>\n",
       "<table border=\"1\" class=\"dataframe\">\n",
       "  <thead>\n",
       "    <tr style=\"text-align: right;\">\n",
       "      <th></th>\n",
       "      <th>10</th>\n",
       "      <th>100</th>\n",
       "      <th>18</th>\n",
       "      <th>24</th>\n",
       "      <th>30</th>\n",
       "      <th>50</th>\n",
       "      <th>abl</th>\n",
       "      <th>about</th>\n",
       "      <th>accept</th>\n",
       "      <th>account</th>\n",
       "      <th>...</th>\n",
       "      <th>wouldn</th>\n",
       "      <th>write</th>\n",
       "      <th>wrong</th>\n",
       "      <th>yeah</th>\n",
       "      <th>year</th>\n",
       "      <th>yet</th>\n",
       "      <th>you</th>\n",
       "      <th>your</th>\n",
       "      <th>yubo</th>\n",
       "      <th>zero</th>\n",
       "    </tr>\n",
       "  </thead>\n",
       "  <tbody>\n",
       "    <tr>\n",
       "      <th>0</th>\n",
       "      <td>0.0</td>\n",
       "      <td>0.0</td>\n",
       "      <td>0.000000</td>\n",
       "      <td>0.0</td>\n",
       "      <td>0.0</td>\n",
       "      <td>0.0</td>\n",
       "      <td>0.0</td>\n",
       "      <td>0.0</td>\n",
       "      <td>0.0</td>\n",
       "      <td>0.0</td>\n",
       "      <td>...</td>\n",
       "      <td>0.0</td>\n",
       "      <td>0.0</td>\n",
       "      <td>0.0</td>\n",
       "      <td>0.00000</td>\n",
       "      <td>0.0</td>\n",
       "      <td>0.0</td>\n",
       "      <td>0.000000</td>\n",
       "      <td>0.0</td>\n",
       "      <td>0.0</td>\n",
       "      <td>0.0</td>\n",
       "    </tr>\n",
       "    <tr>\n",
       "      <th>1</th>\n",
       "      <td>0.0</td>\n",
       "      <td>0.0</td>\n",
       "      <td>0.000000</td>\n",
       "      <td>0.0</td>\n",
       "      <td>0.0</td>\n",
       "      <td>0.0</td>\n",
       "      <td>0.0</td>\n",
       "      <td>0.0</td>\n",
       "      <td>0.0</td>\n",
       "      <td>0.0</td>\n",
       "      <td>...</td>\n",
       "      <td>0.0</td>\n",
       "      <td>0.0</td>\n",
       "      <td>0.0</td>\n",
       "      <td>0.00000</td>\n",
       "      <td>0.0</td>\n",
       "      <td>0.0</td>\n",
       "      <td>0.000000</td>\n",
       "      <td>0.0</td>\n",
       "      <td>0.0</td>\n",
       "      <td>0.0</td>\n",
       "    </tr>\n",
       "    <tr>\n",
       "      <th>2</th>\n",
       "      <td>0.0</td>\n",
       "      <td>0.0</td>\n",
       "      <td>0.127443</td>\n",
       "      <td>0.0</td>\n",
       "      <td>0.0</td>\n",
       "      <td>0.0</td>\n",
       "      <td>0.0</td>\n",
       "      <td>0.0</td>\n",
       "      <td>0.0</td>\n",
       "      <td>0.0</td>\n",
       "      <td>...</td>\n",
       "      <td>0.0</td>\n",
       "      <td>0.0</td>\n",
       "      <td>0.0</td>\n",
       "      <td>0.13998</td>\n",
       "      <td>0.0</td>\n",
       "      <td>0.0</td>\n",
       "      <td>0.172011</td>\n",
       "      <td>0.0</td>\n",
       "      <td>0.0</td>\n",
       "      <td>0.0</td>\n",
       "    </tr>\n",
       "    <tr>\n",
       "      <th>3</th>\n",
       "      <td>0.0</td>\n",
       "      <td>0.0</td>\n",
       "      <td>0.000000</td>\n",
       "      <td>0.0</td>\n",
       "      <td>0.0</td>\n",
       "      <td>0.0</td>\n",
       "      <td>0.0</td>\n",
       "      <td>0.0</td>\n",
       "      <td>0.0</td>\n",
       "      <td>0.0</td>\n",
       "      <td>...</td>\n",
       "      <td>0.0</td>\n",
       "      <td>0.0</td>\n",
       "      <td>0.0</td>\n",
       "      <td>0.00000</td>\n",
       "      <td>0.0</td>\n",
       "      <td>0.0</td>\n",
       "      <td>0.125648</td>\n",
       "      <td>0.0</td>\n",
       "      <td>0.0</td>\n",
       "      <td>0.0</td>\n",
       "    </tr>\n",
       "    <tr>\n",
       "      <th>4</th>\n",
       "      <td>0.0</td>\n",
       "      <td>0.0</td>\n",
       "      <td>0.000000</td>\n",
       "      <td>0.0</td>\n",
       "      <td>0.0</td>\n",
       "      <td>0.0</td>\n",
       "      <td>0.0</td>\n",
       "      <td>0.0</td>\n",
       "      <td>0.0</td>\n",
       "      <td>0.0</td>\n",
       "      <td>...</td>\n",
       "      <td>0.0</td>\n",
       "      <td>0.0</td>\n",
       "      <td>0.0</td>\n",
       "      <td>0.00000</td>\n",
       "      <td>0.0</td>\n",
       "      <td>0.0</td>\n",
       "      <td>0.000000</td>\n",
       "      <td>0.0</td>\n",
       "      <td>0.0</td>\n",
       "      <td>0.0</td>\n",
       "    </tr>\n",
       "  </tbody>\n",
       "</table>\n",
       "<p>5 rows × 500 columns</p>\n",
       "</div>"
      ],
      "text/plain": [
       "    10  100        18   24   30   50  abl  about  accept  account  ...  \\\n",
       "0  0.0  0.0  0.000000  0.0  0.0  0.0  0.0    0.0     0.0      0.0  ...   \n",
       "1  0.0  0.0  0.000000  0.0  0.0  0.0  0.0    0.0     0.0      0.0  ...   \n",
       "2  0.0  0.0  0.127443  0.0  0.0  0.0  0.0    0.0     0.0      0.0  ...   \n",
       "3  0.0  0.0  0.000000  0.0  0.0  0.0  0.0    0.0     0.0      0.0  ...   \n",
       "4  0.0  0.0  0.000000  0.0  0.0  0.0  0.0    0.0     0.0      0.0  ...   \n",
       "\n",
       "   wouldn  write  wrong     yeah  year  yet       you  your  yubo  zero  \n",
       "0     0.0    0.0    0.0  0.00000   0.0  0.0  0.000000   0.0   0.0   0.0  \n",
       "1     0.0    0.0    0.0  0.00000   0.0  0.0  0.000000   0.0   0.0   0.0  \n",
       "2     0.0    0.0    0.0  0.13998   0.0  0.0  0.172011   0.0   0.0   0.0  \n",
       "3     0.0    0.0    0.0  0.00000   0.0  0.0  0.125648   0.0   0.0   0.0  \n",
       "4     0.0    0.0    0.0  0.00000   0.0  0.0  0.000000   0.0   0.0   0.0  \n",
       "\n",
       "[5 rows x 500 columns]"
      ]
     },
     "execution_count": 25,
     "metadata": {},
     "output_type": "execute_result"
    }
   ],
   "source": [
    "%%time\n",
    "\n",
    "from sklearn.feature_extraction.text import TfidfVectorizer\n",
    "import Stemmer\n",
    "\n",
    "stemmer = Stemmer.Stemmer('en')\n",
    "\n",
    "analyzer = TfidfVectorizer().build_analyzer()\n",
    "\n",
    "class StemmedTfidfVectorizer(TfidfVectorizer):\n",
    "    def build_analyzer(self):\n",
    "        analyzer = super(TfidfVectorizer, self).build_analyzer()\n",
    "        return lambda doc: stemmer.stemWords(analyzer(doc))\n",
    "\n",
    "vectorizer = StemmedTfidfVectorizer(max_features=500, max_df=0.30)\n",
    "matrix = vectorizer.fit_transform(known.Review)\n",
    "\n",
    "words_df = pd.DataFrame(matrix.toarray(), columns=vectorizer.get_feature_names_out())\n",
    "words_df.head(5)"
   ]
  },
  {
   "cell_type": "code",
   "execution_count": 26,
   "id": "d24fa941",
   "metadata": {},
   "outputs": [
    {
     "data": {
      "text/plain": [
       "LinearSVC(class_weight='balanced')"
      ]
     },
     "execution_count": 26,
     "metadata": {},
     "output_type": "execute_result"
    }
   ],
   "source": [
    "from sklearn.svm import LinearSVC\n",
    "\n",
    "X = matrix\n",
    "y = known.sexual\n",
    "\n",
    "clf = LinearSVC(class_weight='balanced')\n",
    "clf.fit(X, y)"
   ]
  },
  {
   "cell_type": "code",
   "execution_count": 27,
   "id": "e8704ef7",
   "metadata": {},
   "outputs": [],
   "source": [
    "X = vectorizer.transform(unknown.Review)\n",
    "\n",
    "unknown['predicted'] = clf.predict(X)\n",
    "unknown['predicted_proba'] = clf.decision_function(X)"
   ]
  },
  {
   "cell_type": "code",
   "execution_count": 28,
   "id": "093dc22b",
   "metadata": {},
   "outputs": [
    {
     "data": {
      "text/html": [
       "<div>\n",
       "<style scoped>\n",
       "    .dataframe tbody tr th:only-of-type {\n",
       "        vertical-align: middle;\n",
       "    }\n",
       "\n",
       "    .dataframe tbody tr th {\n",
       "        vertical-align: top;\n",
       "    }\n",
       "\n",
       "    .dataframe thead th {\n",
       "        text-align: right;\n",
       "    }\n",
       "</style>\n",
       "<table border=\"1\" class=\"dataframe\">\n",
       "  <thead>\n",
       "    <tr style=\"text-align: right;\">\n",
       "      <th></th>\n",
       "      <th>Rating</th>\n",
       "      <th>Review</th>\n",
       "      <th>source</th>\n",
       "      <th>racism</th>\n",
       "      <th>bullying</th>\n",
       "      <th>sexual</th>\n",
       "      <th>predicted</th>\n",
       "      <th>predicted_proba</th>\n",
       "    </tr>\n",
       "  </thead>\n",
       "  <tbody>\n",
       "    <tr>\n",
       "      <th>0</th>\n",
       "      <td>5</td>\n",
       "      <td>It’s a great app to meet new people and chat in very satisfied with downloading this app i recommend this app if you like to chat or just to meet new people. And you can choose which country To find different users!</td>\n",
       "      <td>holla</td>\n",
       "      <td>NaN</td>\n",
       "      <td>NaN</td>\n",
       "      <td>NaN</td>\n",
       "      <td>0.0</td>\n",
       "      <td>-0.596082</td>\n",
       "    </tr>\n",
       "    <tr>\n",
       "      <th>1</th>\n",
       "      <td>5</td>\n",
       "      <td>Holla is an excellent app, where I get to know new people every time and even get to make new friends. I truly recommend this application to all people!</td>\n",
       "      <td>holla</td>\n",
       "      <td>NaN</td>\n",
       "      <td>NaN</td>\n",
       "      <td>NaN</td>\n",
       "      <td>0.0</td>\n",
       "      <td>-1.015293</td>\n",
       "    </tr>\n",
       "    <tr>\n",
       "      <th>3</th>\n",
       "      <td>5</td>\n",
       "      <td>Free to use app, meet people around the world.</td>\n",
       "      <td>holla</td>\n",
       "      <td>NaN</td>\n",
       "      <td>NaN</td>\n",
       "      <td>NaN</td>\n",
       "      <td>0.0</td>\n",
       "      <td>-1.202139</td>\n",
       "    </tr>\n",
       "    <tr>\n",
       "      <th>4</th>\n",
       "      <td>5</td>\n",
       "      <td>I got this app and everything has been different. I’ve met so many interesting people. From around the world. I was recently reunited with my high school girlfriend. We’re getting married. I met and married The love of my Life thanks to Holla. Thanks Holla!!!!!</td>\n",
       "      <td>holla</td>\n",
       "      <td>NaN</td>\n",
       "      <td>NaN</td>\n",
       "      <td>NaN</td>\n",
       "      <td>0.0</td>\n",
       "      <td>-0.937766</td>\n",
       "    </tr>\n",
       "    <tr>\n",
       "      <th>5</th>\n",
       "      <td>5</td>\n",
       "      <td>You make good friends here</td>\n",
       "      <td>holla</td>\n",
       "      <td>NaN</td>\n",
       "      <td>NaN</td>\n",
       "      <td>NaN</td>\n",
       "      <td>0.0</td>\n",
       "      <td>-0.975581</td>\n",
       "    </tr>\n",
       "    <tr>\n",
       "      <th>...</th>\n",
       "      <td>...</td>\n",
       "      <td>...</td>\n",
       "      <td>...</td>\n",
       "      <td>...</td>\n",
       "      <td>...</td>\n",
       "      <td>...</td>\n",
       "      <td>...</td>\n",
       "      <td>...</td>\n",
       "    </tr>\n",
       "    <tr>\n",
       "      <th>56044</th>\n",
       "      <td>5</td>\n",
       "      <td>Fun app glad I got it for free, would be awesome if you could save logs either via picture or text. Keep up the good work.</td>\n",
       "      <td>chat-for-strangers</td>\n",
       "      <td>NaN</td>\n",
       "      <td>NaN</td>\n",
       "      <td>NaN</td>\n",
       "      <td>0.0</td>\n",
       "      <td>-0.864825</td>\n",
       "    </tr>\n",
       "    <tr>\n",
       "      <th>56045</th>\n",
       "      <td>1</td>\n",
       "      <td>Can't even open the app. Fix it</td>\n",
       "      <td>skout</td>\n",
       "      <td>NaN</td>\n",
       "      <td>NaN</td>\n",
       "      <td>NaN</td>\n",
       "      <td>0.0</td>\n",
       "      <td>-1.321490</td>\n",
       "    </tr>\n",
       "    <tr>\n",
       "      <th>56046</th>\n",
       "      <td>3</td>\n",
       "      <td>Great but drops convo all tge time :(</td>\n",
       "      <td>chat-for-strangers</td>\n",
       "      <td>NaN</td>\n",
       "      <td>NaN</td>\n",
       "      <td>NaN</td>\n",
       "      <td>0.0</td>\n",
       "      <td>-0.528206</td>\n",
       "    </tr>\n",
       "    <tr>\n",
       "      <th>56047</th>\n",
       "      <td>5</td>\n",
       "      <td>Works just like the service it connects to.</td>\n",
       "      <td>chat-for-strangers</td>\n",
       "      <td>NaN</td>\n",
       "      <td>NaN</td>\n",
       "      <td>NaN</td>\n",
       "      <td>0.0</td>\n",
       "      <td>-1.388547</td>\n",
       "    </tr>\n",
       "    <tr>\n",
       "      <th>56048</th>\n",
       "      <td>2</td>\n",
       "      <td>Hate to rate it low, because the app is pretty good. Besides a bombardment of ads it does its jobs well. However, everything I try to change my info, it auto resets back x( I've seen others with this problem as well.</td>\n",
       "      <td>skout</td>\n",
       "      <td>NaN</td>\n",
       "      <td>NaN</td>\n",
       "      <td>NaN</td>\n",
       "      <td>0.0</td>\n",
       "      <td>-0.836199</td>\n",
       "    </tr>\n",
       "  </tbody>\n",
       "</table>\n",
       "<p>55719 rows × 8 columns</p>\n",
       "</div>"
      ],
      "text/plain": [
       "       Rating  \\\n",
       "0           5   \n",
       "1           5   \n",
       "3           5   \n",
       "4           5   \n",
       "5           5   \n",
       "...       ...   \n",
       "56044       5   \n",
       "56045       1   \n",
       "56046       3   \n",
       "56047       5   \n",
       "56048       2   \n",
       "\n",
       "                                                                                                                                                                                                                                                                      Review  \\\n",
       "0                                                    It’s a great app to meet new people and chat in very satisfied with downloading this app i recommend this app if you like to chat or just to meet new people. And you can choose which country To find different users!   \n",
       "1                                                                                                                   Holla is an excellent app, where I get to know new people every time and even get to make new friends. I truly recommend this application to all people!   \n",
       "3                                                                                                                                                                                                                             Free to use app, meet people around the world.   \n",
       "4      I got this app and everything has been different. I’ve met so many interesting people. From around the world. I was recently reunited with my high school girlfriend. We’re getting married. I met and married The love of my Life thanks to Holla. Thanks Holla!!!!!   \n",
       "5                                                                                                                                                                                                                                                 You make good friends here   \n",
       "...                                                                                                                                                                                                                                                                      ...   \n",
       "56044                                                                                                                                             Fun app glad I got it for free, would be awesome if you could save logs either via picture or text. Keep up the good work.   \n",
       "56045                                                                                                                                                                                                                                        Can't even open the app. Fix it   \n",
       "56046                                                                                                                                                                                                                                  Great but drops convo all tge time :(   \n",
       "56047                                                                                                                                                                                                                            Works just like the service it connects to.   \n",
       "56048                                               Hate to rate it low, because the app is pretty good. Besides a bombardment of ads it does its jobs well. However, everything I try to change my info, it auto resets back x( I've seen others with this problem as well.   \n",
       "\n",
       "                   source  racism  bullying  sexual  predicted  \\\n",
       "0                   holla     NaN       NaN     NaN        0.0   \n",
       "1                   holla     NaN       NaN     NaN        0.0   \n",
       "3                   holla     NaN       NaN     NaN        0.0   \n",
       "4                   holla     NaN       NaN     NaN        0.0   \n",
       "5                   holla     NaN       NaN     NaN        0.0   \n",
       "...                   ...     ...       ...     ...        ...   \n",
       "56044  chat-for-strangers     NaN       NaN     NaN        0.0   \n",
       "56045               skout     NaN       NaN     NaN        0.0   \n",
       "56046  chat-for-strangers     NaN       NaN     NaN        0.0   \n",
       "56047  chat-for-strangers     NaN       NaN     NaN        0.0   \n",
       "56048               skout     NaN       NaN     NaN        0.0   \n",
       "\n",
       "       predicted_proba  \n",
       "0            -0.596082  \n",
       "1            -1.015293  \n",
       "3            -1.202139  \n",
       "4            -0.937766  \n",
       "5            -0.975581  \n",
       "...                ...  \n",
       "56044        -0.864825  \n",
       "56045        -1.321490  \n",
       "56046        -0.528206  \n",
       "56047        -1.388547  \n",
       "56048        -0.836199  \n",
       "\n",
       "[55719 rows x 8 columns]"
      ]
     },
     "execution_count": 28,
     "metadata": {},
     "output_type": "execute_result"
    }
   ],
   "source": [
    "unknown"
   ]
  },
  {
   "cell_type": "code",
   "execution_count": 29,
   "id": "63fd26f7",
   "metadata": {},
   "outputs": [
    {
     "data": {
      "text/html": [
       "<div>\n",
       "<style scoped>\n",
       "    .dataframe tbody tr th:only-of-type {\n",
       "        vertical-align: middle;\n",
       "    }\n",
       "\n",
       "    .dataframe tbody tr th {\n",
       "        vertical-align: top;\n",
       "    }\n",
       "\n",
       "    .dataframe thead th {\n",
       "        text-align: right;\n",
       "    }\n",
       "</style>\n",
       "<table border=\"1\" class=\"dataframe\">\n",
       "  <thead>\n",
       "    <tr style=\"text-align: right;\">\n",
       "      <th></th>\n",
       "      <th>Rating</th>\n",
       "      <th>Review</th>\n",
       "      <th>source</th>\n",
       "      <th>racism</th>\n",
       "      <th>bullying</th>\n",
       "      <th>sexual</th>\n",
       "      <th>predicted</th>\n",
       "      <th>predicted_proba</th>\n",
       "    </tr>\n",
       "  </thead>\n",
       "  <tbody>\n",
       "    <tr>\n",
       "      <th>151</th>\n",
       "      <td>5</td>\n",
       "      <td>This app is very cool! You get to talk to many many different people from all over the world ! France,Germany,Italy,Brazil,Mexico and the list goes on and on. Make sure to always be nice and respectful and don’t show your private parts that’s not allowed you will get banned . That’s disgusting a...</td>\n",
       "      <td>holla</td>\n",
       "      <td>NaN</td>\n",
       "      <td>NaN</td>\n",
       "      <td>NaN</td>\n",
       "      <td>1.0</td>\n",
       "      <td>0.224520</td>\n",
       "    </tr>\n",
       "    <tr>\n",
       "      <th>272</th>\n",
       "      <td>4</td>\n",
       "      <td>I really like the app, but there is so many 13 year olds on that app and there’s girls showing their private parts on camera.</td>\n",
       "      <td>holla</td>\n",
       "      <td>NaN</td>\n",
       "      <td>NaN</td>\n",
       "      <td>NaN</td>\n",
       "      <td>1.0</td>\n",
       "      <td>0.435016</td>\n",
       "    </tr>\n",
       "    <tr>\n",
       "      <th>285</th>\n",
       "      <td>5</td>\n",
       "      <td>I like the concept and idea of the app, but the guys on here are really\\nGross and mostly just catfishes (posing as another person) and it’s highly disappointing. Also I try to connect with guys and I’ll get girls who say they’re men? Plus on nearby mode I have most of my luck finding cute, nice...</td>\n",
       "      <td>holla</td>\n",
       "      <td>NaN</td>\n",
       "      <td>NaN</td>\n",
       "      <td>NaN</td>\n",
       "      <td>1.0</td>\n",
       "      <td>0.223257</td>\n",
       "    </tr>\n",
       "    <tr>\n",
       "      <th>286</th>\n",
       "      <td>3</td>\n",
       "      <td>Literally all I match with is guys. NONSTOP. there needs to be a little bit more variety than just dudes back to back when it's set to girls and guys with no girls.</td>\n",
       "      <td>holla</td>\n",
       "      <td>NaN</td>\n",
       "      <td>NaN</td>\n",
       "      <td>NaN</td>\n",
       "      <td>1.0</td>\n",
       "      <td>0.006054</td>\n",
       "    </tr>\n",
       "    <tr>\n",
       "      <th>340</th>\n",
       "      <td>3</td>\n",
       "      <td>Hi guys ok so my problem with this app is that I wanna 2p with my friends and with the new features idk how to do that anymore. Did you guys delete the 2p mode?if not how do I use the 2p mode again?</td>\n",
       "      <td>holla</td>\n",
       "      <td>NaN</td>\n",
       "      <td>NaN</td>\n",
       "      <td>NaN</td>\n",
       "      <td>1.0</td>\n",
       "      <td>0.143846</td>\n",
       "    </tr>\n",
       "  </tbody>\n",
       "</table>\n",
       "</div>"
      ],
      "text/plain": [
       "     Rating  \\\n",
       "151       5   \n",
       "272       4   \n",
       "285       5   \n",
       "286       3   \n",
       "340       3   \n",
       "\n",
       "                                                                                                                                                                                                                                                                                                          Review  \\\n",
       "151  This app is very cool! You get to talk to many many different people from all over the world ! France,Germany,Italy,Brazil,Mexico and the list goes on and on. Make sure to always be nice and respectful and don’t show your private parts that’s not allowed you will get banned . That’s disgusting a...   \n",
       "272                                                                                                                                                                                I really like the app, but there is so many 13 year olds on that app and there’s girls showing their private parts on camera.   \n",
       "285  I like the concept and idea of the app, but the guys on here are really\\nGross and mostly just catfishes (posing as another person) and it’s highly disappointing. Also I try to connect with guys and I’ll get girls who say they’re men? Plus on nearby mode I have most of my luck finding cute, nice...   \n",
       "286                                                                                                                                         Literally all I match with is guys. NONSTOP. there needs to be a little bit more variety than just dudes back to back when it's set to girls and guys with no girls.   \n",
       "340                                                                                                       Hi guys ok so my problem with this app is that I wanna 2p with my friends and with the new features idk how to do that anymore. Did you guys delete the 2p mode?if not how do I use the 2p mode again?   \n",
       "\n",
       "    source  racism  bullying  sexual  predicted  predicted_proba  \n",
       "151  holla     NaN       NaN     NaN        1.0         0.224520  \n",
       "272  holla     NaN       NaN     NaN        1.0         0.435016  \n",
       "285  holla     NaN       NaN     NaN        1.0         0.223257  \n",
       "286  holla     NaN       NaN     NaN        1.0         0.006054  \n",
       "340  holla     NaN       NaN     NaN        1.0         0.143846  "
      ]
     },
     "execution_count": 29,
     "metadata": {},
     "output_type": "execute_result"
    }
   ],
   "source": [
    "unknown[unknown.predicted == 1].head()"
   ]
  },
  {
   "cell_type": "code",
   "execution_count": 30,
   "id": "d63b7013",
   "metadata": {},
   "outputs": [
    {
     "data": {
      "text/html": [
       "<div>\n",
       "<style scoped>\n",
       "    .dataframe tbody tr th:only-of-type {\n",
       "        vertical-align: middle;\n",
       "    }\n",
       "\n",
       "    .dataframe tbody tr th {\n",
       "        vertical-align: top;\n",
       "    }\n",
       "\n",
       "    .dataframe thead th {\n",
       "        text-align: right;\n",
       "    }\n",
       "</style>\n",
       "<table border=\"1\" class=\"dataframe\">\n",
       "  <thead>\n",
       "    <tr style=\"text-align: right;\">\n",
       "      <th></th>\n",
       "      <th>Rating</th>\n",
       "      <th>Review</th>\n",
       "      <th>source</th>\n",
       "      <th>racism</th>\n",
       "      <th>bullying</th>\n",
       "      <th>sexual</th>\n",
       "      <th>predicted</th>\n",
       "      <th>predicted_proba</th>\n",
       "    </tr>\n",
       "  </thead>\n",
       "  <tbody>\n",
       "    <tr>\n",
       "      <th>55605</th>\n",
       "      <td>4</td>\n",
       "      <td>Like a small thing that's pink/ blue to show whether your m or f. That would be nice. And to all the guys out there... Put your dick back in your pants. I'm a guy but I don't creep on girls. There a thing called porn.</td>\n",
       "      <td>chat-for-strangers</td>\n",
       "      <td>NaN</td>\n",
       "      <td>NaN</td>\n",
       "      <td>NaN</td>\n",
       "      <td>1.0</td>\n",
       "      <td>1.187417</td>\n",
       "    </tr>\n",
       "    <tr>\n",
       "      <th>19423</th>\n",
       "      <td>2</td>\n",
       "      <td>All the guys on here ever ask for is nudes like I don't want to send my nudes to you</td>\n",
       "      <td>skout</td>\n",
       "      <td>NaN</td>\n",
       "      <td>NaN</td>\n",
       "      <td>NaN</td>\n",
       "      <td>1.0</td>\n",
       "      <td>1.159414</td>\n",
       "    </tr>\n",
       "    <tr>\n",
       "      <th>11002</th>\n",
       "      <td>1</td>\n",
       "      <td>To many perverts and all they ask for is nudes🙄</td>\n",
       "      <td>chat-for-strangers</td>\n",
       "      <td>NaN</td>\n",
       "      <td>NaN</td>\n",
       "      <td>NaN</td>\n",
       "      <td>1.0</td>\n",
       "      <td>1.081842</td>\n",
       "    </tr>\n",
       "    <tr>\n",
       "      <th>30386</th>\n",
       "      <td>1</td>\n",
       "      <td>Six 18yd men asked for nudes I’m 13</td>\n",
       "      <td>holla</td>\n",
       "      <td>NaN</td>\n",
       "      <td>NaN</td>\n",
       "      <td>NaN</td>\n",
       "      <td>1.0</td>\n",
       "      <td>1.068405</td>\n",
       "    </tr>\n",
       "    <tr>\n",
       "      <th>16547</th>\n",
       "      <td>2</td>\n",
       "      <td>Just a bunch of horny guys wanting nudes</td>\n",
       "      <td>holla</td>\n",
       "      <td>NaN</td>\n",
       "      <td>NaN</td>\n",
       "      <td>NaN</td>\n",
       "      <td>1.0</td>\n",
       "      <td>1.063398</td>\n",
       "    </tr>\n",
       "  </tbody>\n",
       "</table>\n",
       "</div>"
      ],
      "text/plain": [
       "       Rating  \\\n",
       "55605       4   \n",
       "19423       2   \n",
       "11002       1   \n",
       "30386       1   \n",
       "16547       2   \n",
       "\n",
       "                                                                                                                                                                                                                          Review  \\\n",
       "55605  Like a small thing that's pink/ blue to show whether your m or f. That would be nice. And to all the guys out there... Put your dick back in your pants. I'm a guy but I don't creep on girls. There a thing called porn.   \n",
       "19423                                                                                                                                       All the guys on here ever ask for is nudes like I don't want to send my nudes to you   \n",
       "11002                                                                                                                                                                            To many perverts and all they ask for is nudes🙄   \n",
       "30386                                                                                                                                                                                        Six 18yd men asked for nudes I’m 13   \n",
       "16547                                                                                                                                                                                   Just a bunch of horny guys wanting nudes   \n",
       "\n",
       "                   source  racism  bullying  sexual  predicted  \\\n",
       "55605  chat-for-strangers     NaN       NaN     NaN        1.0   \n",
       "19423               skout     NaN       NaN     NaN        1.0   \n",
       "11002  chat-for-strangers     NaN       NaN     NaN        1.0   \n",
       "30386               holla     NaN       NaN     NaN        1.0   \n",
       "16547               holla     NaN       NaN     NaN        1.0   \n",
       "\n",
       "       predicted_proba  \n",
       "55605         1.187417  \n",
       "19423         1.159414  \n",
       "11002         1.081842  \n",
       "30386         1.068405  \n",
       "16547         1.063398  "
      ]
     },
     "execution_count": 30,
     "metadata": {},
     "output_type": "execute_result"
    }
   ],
   "source": [
    "# The top 1000 most likely creepy dude reviews\n",
    "\n",
    "creepy_df = unknown.sort_values(by='predicted_proba',\n",
    "                                ascending=False).head(1000)\n",
    "creepy_df.head()"
   ]
  },
  {
   "cell_type": "markdown",
   "id": "2921c4c0",
   "metadata": {},
   "source": [
    "### Using a fine-tuned language model\n",
    "\n",
    "The modern update to this might use [HuggingFace AutoTrain](https://huggingface.co/autotrain) to create a custom model. It will (potentially) be more effective than your old-fashioned machine learning model, with fewer parameters to tweak."
   ]
  },
  {
   "cell_type": "code",
   "execution_count": 37,
   "id": "65235592",
   "metadata": {},
   "outputs": [
    {
     "data": {
      "text/plain": [
       "[{'label': '0.0', 'score': 0.998849630355835},\n",
       " {'label': '1.0', 'score': 0.8436581492424011}]"
      ]
     },
     "execution_count": 37,
     "metadata": {},
     "output_type": "execute_result"
    }
   ],
   "source": [
    "from transformers import pipeline\n",
    "\n",
    "creepy_pipeline = pipeline(model=\"wendys-llc/creepy-wapo\")\n",
    "data = [\n",
    "    \"I love the app, talking to people is fun\",\n",
    "    \"Be careful talking to men, they all want nudes :(\"\n",
    "]\n",
    "\n",
    "creepy_pipeline(data)"
   ]
  },
  {
   "cell_type": "markdown",
   "id": "856b9946",
   "metadata": {},
   "source": [
    "### Using zero-shot classification with GPT\n",
    "\n",
    "The *most* advanced method is to [just ask GPT](https://chat.openai.com/). This is called zero-shot classification because it doesn't need any examples!"
   ]
  },
  {
   "cell_type": "code",
   "execution_count": 34,
   "id": "eeb058d2",
   "metadata": {},
   "outputs": [],
   "source": [
    "from langchain.chat_models import ChatOpenAI\n",
    "\n",
    "# You'll need your own OpenAI GPT API key! \n",
    "# https://platform.openai.com/apps\n",
    "# API_KEY = \"sk-XXXXX\"\n",
    "\n",
    "# Faster/cheaper\n",
    "MODEL = 'gpt-3.5-turbo'\n",
    "\n",
    "# Better results (I'm impatient, so we're using turbo!)\n",
    "# MODEL = 'gpt-4'\n",
    "\n",
    "llm = ChatOpenAI(openai_api_key=API_KEY, model_name=MODEL)"
   ]
  },
  {
   "cell_type": "markdown",
   "id": "42df2a79",
   "metadata": {},
   "source": [
    "Here is an example of talking to GPT using Python code."
   ]
  },
  {
   "cell_type": "code",
   "execution_count": 35,
   "id": "7b57c4ba",
   "metadata": {},
   "outputs": [
    {
     "name": "stdout",
     "output_type": "stream",
     "text": [
      "Sure! Here is a classic recipe for chocolate chip cookies:\n",
      "\n",
      "Ingredients:\n",
      "- 1 cup (2 sticks) unsalted butter, softened\n",
      "- 1 cup granulated sugar\n",
      "- 1 cup packed brown sugar\n",
      "- 2 large eggs\n",
      "- 1 teaspoon pure vanilla extract\n",
      "- 3 cups all-purpose flour\n",
      "- 1 teaspoon baking soda\n",
      "- 1/2 teaspoon salt\n",
      "- 2 cups chocolate chips (semi-sweet or milk chocolate)\n",
      "\n",
      "Instructions:\n",
      "1. Preheat your oven to 350°F (175°C). Line baking sheets with parchment paper or silicone baking mats.\n",
      "\n",
      "2. In a large mixing bowl, cream together the softened butter, granulated sugar, and brown sugar until light and fluffy. This can be done by hand or with an electric mixer.\n",
      "\n",
      "3. Add the eggs one at a time, beating well after each addition. Stir in the vanilla extract.\n",
      "\n",
      "4. In a separate bowl, whisk together the flour, baking soda, and salt. Gradually add the dry ingredients to the wet ingredients, mixing until just combined.\n",
      "\n",
      "5. Fold in the chocolate chips until evenly distributed throughout the dough.\n",
      "\n",
      "6. Using a cookie scoop or tablespoon, drop rounded spoonfuls of dough onto the prepared baking sheets, spacing them about 2 inches apart.\n",
      "\n",
      "7. Bake for 10-12 minutes, or until the edges are golden brown. The centers may seem slightly undercooked, but they will firm up as the cookies cool.\n",
      "\n",
      "8. Allow the cookies to cool on the baking sheets for 5 minutes, then transfer them to wire racks to cool completely.\n",
      "\n",
      "9. Enjoy your homemade chocolate chip cookies with a glass of milk or your favorite beverage!\n",
      "\n",
      "Note: Feel free to customize your cookies by adding nuts, coconut flakes, or other mix-ins of your choice. You can also chill the dough for a few hours before baking for thicker cookies.\n"
     ]
    }
   ],
   "source": [
    "response = llm.predict(\"Give me a recipe for chocolate-chip cookies\")\n",
    "print(response)"
   ]
  },
  {
   "cell_type": "markdown",
   "id": "b28b3889",
   "metadata": {},
   "source": [
    "Here is an example of zero-shot classification"
   ]
  },
  {
   "cell_type": "code",
   "execution_count": 36,
   "id": "cae503ef",
   "metadata": {},
   "outputs": [
    {
     "name": "stdout",
     "output_type": "stream",
     "text": [
      "ENVIRONMENT\n"
     ]
    }
   ],
   "source": [
    "prompt = \"\"\"\n",
    "Categorize the following text as being about ENVIRONMENT, GUN CONTROL,\n",
    "or IMMIGRATION. Respond with only the category.\n",
    "\n",
    "Text: A Bill to Regulate the Sulfur Emissions of Coal-Fired Energy\n",
    "Plants in the State of New York.\n",
    "\"\"\"\n",
    "\n",
    "response = llm.predict(prompt)\n",
    "print(response)"
   ]
  },
  {
   "cell_type": "markdown",
   "id": "9c99f213",
   "metadata": {},
   "source": [
    "Normally you would use this for a whole lot of different bills, so it would be best to design a template that you can fill in text for."
   ]
  },
  {
   "cell_type": "code",
   "execution_count": 40,
   "id": "7dbcf159",
   "metadata": {},
   "outputs": [
    {
     "name": "stdout",
     "output_type": "stream",
     "text": [
      "A Bill to Allow Additional Refugees In Upstate New York is IMMIGRATION\n",
      "A Bill to Close Down Coal-fired Power Plants is ENVIRONMENT\n",
      "A Bill to Banning Assault Rifles at Public Events is GUN CONTROL\n"
     ]
    }
   ],
   "source": [
    "template = \"\"\"\n",
    "Categorize the following text as being about ENVIRONMENT, GUN CONTROL,\n",
    "or IMMIGRATION. Respond with only the category.\n",
    "\n",
    "Text: {bill_text}\n",
    "\"\"\"\n",
    "\n",
    "bills = [\n",
    "    \"A Bill to Allow Additional Refugees In Upstate New York\",\n",
    "    \"A Bill to Close Down Coal-fired Power Plants\",\n",
    "    \"A Bill to Banning Assault Rifles at Public Events\"\n",
    "]\n",
    "\n",
    "for bill in bills:\n",
    "    prompt = template.format(bill_text=bill)\n",
    "    response = llm.predict(prompt)\n",
    "    print(bill, \"is\", response)"
   ]
  },
  {
   "cell_type": "markdown",
   "id": "85ff9e2f",
   "metadata": {},
   "source": [
    "## Summarization\n",
    "\n",
    "Let's say we wanted to summarize [this story from the NYT](https://www.nytimes.com/2023/08/08/business/china-youth-unemployment.html) about youth unemployment in China. We have a few options!"
   ]
  },
  {
   "cell_type": "code",
   "execution_count": 54,
   "id": "9a5ae358",
   "metadata": {},
   "outputs": [
    {
     "data": {
      "text/plain": [
       "'At this year’s commencement ceremony for the Chongqing Metropolitan College of Science and Technology in southwestern China, the members of the graduating class did not receive the usual lofty message'"
      ]
     },
     "execution_count": 54,
     "metadata": {},
     "output_type": "execute_result"
    }
   ],
   "source": [
    "text = open(\"nytimes-story.txt\").read()\n",
    "text[:200]"
   ]
  },
  {
   "cell_type": "markdown",
   "id": "8b591181",
   "metadata": {},
   "source": [
    "### Using a Hugging Face model to summarize\n",
    "\n",
    "Using a Hugging Face model is free, fast and private. For example, we can use [this model originally created by Facebook](https://huggingface.co/facebook/bart-large-cnn), which is a [popular model for summarization](https://huggingface.co/models?pipeline_tag=summarization&sort=trending)."
   ]
  },
  {
   "cell_type": "code",
   "execution_count": 55,
   "id": "33fd5184",
   "metadata": {},
   "outputs": [],
   "source": [
    "from transformers import pipeline\n",
    "\n",
    "summarizer = pipeline(\"summarization\", model=\"facebook/bart-large-cnn\")"
   ]
  },
  {
   "cell_type": "code",
   "execution_count": 68,
   "id": "a6682810",
   "metadata": {},
   "outputs": [
    {
     "name": "stdout",
     "output_type": "stream",
     "text": [
      "[{'summary_text': 'China’s unemployment rate for 16- to 24-year-olds in urban areas hit a record 21.3 percent in June. The number of students enrolling in colleges and universities increased to 10.1 million in 2022 from 754,000 in 1992.'}]\n"
     ]
    }
   ],
   "source": [
    "# We can't send the whole text! We're only sending the first half.\n",
    "\n",
    "result = summarizer(text[:4000], max_length=300, min_length=30)\n",
    "print(result)"
   ]
  },
  {
   "cell_type": "markdown",
   "id": "72b3e111",
   "metadata": {},
   "source": [
    "### Using GPT to summarize\n",
    "\n",
    "On the other hand, GPT results might be more expensive (and less private), but the quality will certainly be much higher."
   ]
  },
  {
   "cell_type": "code",
   "execution_count": 51,
   "id": "4defdb97",
   "metadata": {},
   "outputs": [
    {
     "name": "stdout",
     "output_type": "stream",
     "text": [
      "China's record number of college graduates entering the job market is exacerbating the country's youth unemployment crisis, with the unemployment rate for 16- to 24-year-olds in urban areas reaching a record high of 21.3% in June. Government policymakers are pressuring colleges to do more to find jobs for graduates, with school administrators' job performance now tied to the employment rate of their students. The mismatch between the jobs graduates want and what is available, combined with economic downturns and government crackdowns on industries, has contributed to the issue. The problem of youth unemployment could have significant social and political consequences if not addressed properly.\n"
     ]
    }
   ],
   "source": [
    "template = \"\"\"\n",
    "Write a concise summary of the following text.\n",
    "\n",
    "TEXT: {story_text}\n",
    "\"\"\"\n",
    "\n",
    "prompt = template.format(story_text=text)\n",
    "response = llm.predict(prompt)\n",
    "\n",
    "print(response)"
   ]
  },
  {
   "cell_type": "markdown",
   "id": "8be26551",
   "metadata": {},
   "source": [
    "We can use **prompt engineering** to customize our results. You can learn more at [Prompt Engineering for Developers](https://www.deeplearning.ai/short-courses/chatgpt-prompt-engineering-for-developers/)"
   ]
  },
  {
   "cell_type": "code",
   "execution_count": 52,
   "id": "33177064",
   "metadata": {},
   "outputs": [
    {
     "name": "stdout",
     "output_type": "stream",
     "text": [
      "- Chinese college graduates face a bleak employment outlook due to a record number of graduates and a stagnant economy.\n",
      "- China's youth unemployment rate hit a record 21.3% in June and is expected to rise further.\n",
      "- Government policymakers are pressuring colleges to do more to find jobs for graduates.\n",
      "- The problem of youth unemployment could have significant social and political consequences.\n",
      "- Economic volatility, government crackdowns, and a mismatch between job expectations and availability contribute to the issue.\n",
      "- Beijing has released policy initiatives and support measures to encourage private companies to add jobs.\n",
      "- College administrators face pressure to meet employment mandates from the government.\n",
      "- Extreme measures, such as fabricating job offers, are being taken by students and administrators to appease authorities.\n",
      "- The pressure campaign on colleges is intensifying, leading to greater desperation among students and administrators.\n"
     ]
    }
   ],
   "source": [
    "template = \"\"\"\n",
    "Write a concise summary of the following text in bullet-point format.\n",
    "Address topics as action items, and assume the reader knows the basic\n",
    "facts of the situation.\n",
    "\n",
    "TEXT: {story_text}\n",
    "\"\"\"\n",
    "\n",
    "prompt = template.format(story_text=text)\n",
    "response = llm.predict(prompt)\n",
    "\n",
    "print(response)"
   ]
  },
  {
   "cell_type": "markdown",
   "id": "b5aea4c1",
   "metadata": {},
   "source": [
    "### Summarizing longer texts"
   ]
  },
  {
   "cell_type": "code",
   "execution_count": 70,
   "id": "935a6fc1",
   "metadata": {},
   "outputs": [
    {
     "data": {
      "text/plain": [
       "'RÁADÓ ÉS ANYICSKA.\\nEgyszer, hol volt – hol nem volt, volt a világon egy király, a ki teljeséletében mindig a háborúban, harczban lakott. Már kilencz esztendő óta aháza tájékán se’ volt, azt se’ tudta hogy mije van otthon. Elhatároztahát hogy már csak akárhogy – mint teszi szerét, de haza megy, felir'"
      ]
     },
     "execution_count": 70,
     "metadata": {},
     "output_type": "execute_result"
    }
   ],
   "source": [
    "text = open(\"folktale.txt\").read()\n",
    "text[:300]"
   ]
  },
  {
   "cell_type": "code",
   "execution_count": 72,
   "id": "f9f2cd08",
   "metadata": {},
   "outputs": [],
   "source": [
    "template = \"\"\"\n",
    "Write a concise summary of the following text.\n",
    "\n",
    "TEXT: {story_text}\n",
    "\"\"\"\n",
    "\n",
    "# The below will give us an error\n",
    "# prompt = template.format(story_text=text)\n",
    "# response = llm.predict(prompt)\n",
    "\n",
    "# print(response)"
   ]
  },
  {
   "cell_type": "markdown",
   "id": "bcfce7b1",
   "metadata": {},
   "source": [
    "Instead, we need to split it up into several pieces and summarize them one at a time."
   ]
  },
  {
   "cell_type": "code",
   "execution_count": 73,
   "id": "bbe45522",
   "metadata": {},
   "outputs": [
    {
     "data": {
      "text/plain": [
       "20"
      ]
     },
     "execution_count": 73,
     "metadata": {},
     "output_type": "execute_result"
    }
   ],
   "source": [
    "from langchain.document_loaders import TextLoader\n",
    "from langchain.text_splitter import RecursiveCharacterTextSplitter\n",
    "\n",
    "loader = TextLoader('folktale.txt', encoding='utf-8')\n",
    "documents = loader.load()\n",
    "\n",
    "text_splitter = RecursiveCharacterTextSplitter(chunk_size=2500)\n",
    "docs = text_splitter.split_documents(documents)\n",
    "len(docs)"
   ]
  },
  {
   "cell_type": "code",
   "execution_count": 74,
   "id": "a9c52c59",
   "metadata": {},
   "outputs": [],
   "source": [
    "from langchain import PromptTemplate\n",
    "from langchain.chains.summarize import load_summarize_chain\n",
    "\n",
    "prompt_template = \"\"\"Write a concise summary of the following text.\n",
    "\n",
    "TEXT: {text}\n",
    "\n",
    "\n",
    "CONCISE SUMMARY IN ENGLISH:\"\"\"\n",
    "\n",
    "PROMPT = PromptTemplate(template=prompt_template, input_variables=[\"text\"])\n",
    "chain = load_summarize_chain(llm,\n",
    "                             chain_type=\"map_reduce\",\n",
    "                             return_intermediate_steps=True,\n",
    "                             map_prompt=PROMPT,\n",
    "                             combine_prompt=PROMPT)\n",
    "\n",
    "result = chain({\"input_documents\": docs}, return_only_outputs=True)"
   ]
  },
  {
   "cell_type": "code",
   "execution_count": 75,
   "id": "ca1d0a77",
   "metadata": {},
   "outputs": [
    {
     "name": "stdout",
     "output_type": "stream",
     "text": [
      "The text tells the story of Ráadó, who follows the instructions of a beautiful fairy to meet her at a lake. Ráadó sees three swans transform into fairy princesses, and falls in love with the youngest one. He steals her swan dress and asks her to marry him. She agrees, and they fly back to his father's castle. However, she warns him to hide their love so they won't be separated.\n"
     ]
    }
   ],
   "source": [
    "print(result['output_text'])"
   ]
  },
  {
   "cell_type": "markdown",
   "id": "6fba7c08",
   "metadata": {},
   "source": [
    "## Embeddings and semantic search"
   ]
  },
  {
   "cell_type": "code",
   "execution_count": 77,
   "id": "3463fd11",
   "metadata": {},
   "outputs": [
    {
     "name": "stdout",
     "output_type": "stream",
     "text": [
      "[ 0.03733039  0.0511619  -0.00030607  0.06020993 -0.11749442 -0.0142301\n",
      "  0.10577624  0.02678623  0.02633771 -0.02570082 -0.02349038 -0.05955521\n",
      " -0.03021392  0.01632017 -0.02907013 -0.02168973 -0.06624991  0.00185665\n",
      " -0.02400624 -0.02846252 -0.04663163  0.04970483  0.00308297  0.00176273\n",
      " -0.0677575 ]\n"
     ]
    }
   ],
   "source": [
    "from sentence_transformers import SentenceTransformer\n",
    "sentences = [\"cat\"]\n",
    "\n",
    "model = SentenceTransformer('sentence-transformers/all-MiniLM-L6-v2')\n",
    "embeddings = model.encode(sentences)\n",
    "print(embeddings[0][:25])"
   ]
  },
  {
   "cell_type": "code",
   "execution_count": 78,
   "id": "856470d5",
   "metadata": {},
   "outputs": [
    {
     "name": "stdout",
     "output_type": "stream",
     "text": [
      "[ 0.0676569   0.06349581  0.0487131   0.07930496  0.03744796  0.00265277\n",
      "  0.03937485 -0.00709837  0.0593615   0.03153696  0.06009803 -0.05290522\n",
      "  0.04060676 -0.02593078  0.02984274  0.00112689  0.07351495 -0.05038185\n",
      " -0.12238666  0.02370274  0.02972649  0.04247681  0.0256338   0.00199517\n",
      " -0.05691912 -0.02715985 -0.03290359  0.06602488  0.11900704 -0.04587924\n",
      " -0.07262138 -0.03258408  0.05234135  0.04505523  0.00825302  0.03670237\n",
      " -0.01394151  0.06539196 -0.02642729  0.00020634 -0.01366437 -0.03628108\n",
      " -0.0195043  -0.02897387  0.03942709 -0.08840913  0.00262434  0.01367143\n",
      "  0.04830637 -0.03115652]\n"
     ]
    }
   ],
   "source": [
    "from sentence_transformers import SentenceTransformer\n",
    "sentences = [\"This is an example sentence\"]\n",
    "\n",
    "model = SentenceTransformer('sentence-transformers/all-MiniLM-L6-v2')\n",
    "embeddings = model.encode(sentences)\n",
    "print(embeddings[0][:50])"
   ]
  },
  {
   "cell_type": "code",
   "execution_count": 79,
   "id": "367f88cb",
   "metadata": {},
   "outputs": [],
   "source": [
    "import pandas as pd\n",
    "\n",
    "sentences = [\n",
    "    \"Molly ate a fish\",\n",
    "    \"Jen consumed a carp\",\n",
    "    \"I would like to sell you a house\",\n",
    "    \"Я пытаюсь купить дачу\", # I'm trying to buy a summer home\n",
    "    \"J'aimerais vous louer un grand appartement\", # I would like to rent a large apartment to you\n",
    "    \"This is a wonderful investment opportunity\",\n",
    "    \"Это прекрасная возможность для инвестиций\", # investment opportunity\n",
    "    \"C'est une merveilleuse opportunité d'investissement\", # investment opportunity\n",
    "    \"これは素晴らしい投資機会です\", # investment opportunity\n",
    "    \"野球はあなたが思うよりも面白いことがあります\", # baseball can be more interesting than you think\n",
    "    \"Baseball can be more interesting than you'd think\"\n",
    "]"
   ]
  },
  {
   "cell_type": "code",
   "execution_count": 80,
   "id": "692f2282",
   "metadata": {},
   "outputs": [],
   "source": [
    "model = SentenceTransformer('sentence-transformers/all-MiniLM-L6-v2')\n",
    "embeddings = model.encode(sentences)"
   ]
  },
  {
   "cell_type": "code",
   "execution_count": 81,
   "id": "75c5594f",
   "metadata": {},
   "outputs": [
    {
     "data": {
      "text/html": [
       "<style type=\"text/css\">\n",
       "#T_19936_row0_col0, #T_19936_row1_col1, #T_19936_row2_col2, #T_19936_row3_col3, #T_19936_row4_col4, #T_19936_row5_col5, #T_19936_row6_col6, #T_19936_row7_col7, #T_19936_row8_col8, #T_19936_row9_col9, #T_19936_row10_col10 {\n",
       "  background-color: #023858;\n",
       "  color: #f1f1f1;\n",
       "}\n",
       "#T_19936_row0_col1, #T_19936_row1_col0 {\n",
       "  background-color: #4e9ac6;\n",
       "  color: #f1f1f1;\n",
       "}\n",
       "#T_19936_row0_col2, #T_19936_row0_col8, #T_19936_row2_col0, #T_19936_row2_col9, #T_19936_row8_col0, #T_19936_row9_col2 {\n",
       "  background-color: #ebe6f2;\n",
       "  color: #000000;\n",
       "}\n",
       "#T_19936_row0_col3, #T_19936_row3_col0 {\n",
       "  background-color: #dddbec;\n",
       "  color: #000000;\n",
       "}\n",
       "#T_19936_row0_col4, #T_19936_row4_col0, #T_19936_row5_col8, #T_19936_row7_col10, #T_19936_row8_col5, #T_19936_row10_col7 {\n",
       "  background-color: #ece7f2;\n",
       "  color: #000000;\n",
       "}\n",
       "#T_19936_row0_col5, #T_19936_row5_col0 {\n",
       "  background-color: #f8f1f8;\n",
       "  color: #000000;\n",
       "}\n",
       "#T_19936_row0_col6, #T_19936_row1_col3, #T_19936_row3_col1, #T_19936_row6_col0 {\n",
       "  background-color: #e9e5f1;\n",
       "  color: #000000;\n",
       "}\n",
       "#T_19936_row0_col7, #T_19936_row7_col0 {\n",
       "  background-color: #f7f0f7;\n",
       "  color: #000000;\n",
       "}\n",
       "#T_19936_row0_col9, #T_19936_row2_col6, #T_19936_row6_col2, #T_19936_row9_col0 {\n",
       "  background-color: #ede7f2;\n",
       "  color: #000000;\n",
       "}\n",
       "#T_19936_row0_col10, #T_19936_row10_col0 {\n",
       "  background-color: #ede8f3;\n",
       "  color: #000000;\n",
       "}\n",
       "#T_19936_row1_col2, #T_19936_row2_col1 {\n",
       "  background-color: #e7e3f0;\n",
       "  color: #000000;\n",
       "}\n",
       "#T_19936_row1_col4, #T_19936_row4_col1 {\n",
       "  background-color: #f1ebf5;\n",
       "  color: #000000;\n",
       "}\n",
       "#T_19936_row1_col5, #T_19936_row2_col7, #T_19936_row2_col10, #T_19936_row5_col1, #T_19936_row5_col9, #T_19936_row7_col2, #T_19936_row9_col5, #T_19936_row10_col2 {\n",
       "  background-color: #f0eaf4;\n",
       "  color: #000000;\n",
       "}\n",
       "#T_19936_row1_col6, #T_19936_row6_col1 {\n",
       "  background-color: #faf2f8;\n",
       "  color: #000000;\n",
       "}\n",
       "#T_19936_row1_col7, #T_19936_row7_col1 {\n",
       "  background-color: #f1ebf4;\n",
       "  color: #000000;\n",
       "}\n",
       "#T_19936_row1_col8, #T_19936_row3_col7, #T_19936_row7_col3, #T_19936_row8_col1 {\n",
       "  background-color: #dedcec;\n",
       "  color: #000000;\n",
       "}\n",
       "#T_19936_row1_col9, #T_19936_row9_col1 {\n",
       "  background-color: #d6d6e9;\n",
       "  color: #000000;\n",
       "}\n",
       "#T_19936_row1_col10, #T_19936_row2_col8, #T_19936_row4_col10, #T_19936_row8_col2, #T_19936_row10_col1, #T_19936_row10_col4 {\n",
       "  background-color: #eee8f3;\n",
       "  color: #000000;\n",
       "}\n",
       "#T_19936_row2_col3, #T_19936_row3_col2 {\n",
       "  background-color: #d2d2e7;\n",
       "  color: #000000;\n",
       "}\n",
       "#T_19936_row2_col4, #T_19936_row4_col2 {\n",
       "  background-color: #e0dded;\n",
       "  color: #000000;\n",
       "}\n",
       "#T_19936_row2_col5, #T_19936_row5_col2 {\n",
       "  background-color: #88b1d4;\n",
       "  color: #000000;\n",
       "}\n",
       "#T_19936_row3_col4, #T_19936_row4_col3 {\n",
       "  background-color: #d1d2e6;\n",
       "  color: #000000;\n",
       "}\n",
       "#T_19936_row3_col5, #T_19936_row5_col3 {\n",
       "  background-color: #e3e0ee;\n",
       "  color: #000000;\n",
       "}\n",
       "#T_19936_row3_col6, #T_19936_row6_col3 {\n",
       "  background-color: #69a5cc;\n",
       "  color: #f1f1f1;\n",
       "}\n",
       "#T_19936_row3_col8, #T_19936_row8_col3 {\n",
       "  background-color: #a1bbda;\n",
       "  color: #000000;\n",
       "}\n",
       "#T_19936_row3_col9, #T_19936_row9_col3 {\n",
       "  background-color: #9cb9d9;\n",
       "  color: #000000;\n",
       "}\n",
       "#T_19936_row3_col10, #T_19936_row10_col3 {\n",
       "  background-color: #fff7fb;\n",
       "  color: #000000;\n",
       "}\n",
       "#T_19936_row4_col5, #T_19936_row5_col4 {\n",
       "  background-color: #eae6f1;\n",
       "  color: #000000;\n",
       "}\n",
       "#T_19936_row4_col6, #T_19936_row6_col4 {\n",
       "  background-color: #8fb4d6;\n",
       "  color: #000000;\n",
       "}\n",
       "#T_19936_row4_col7, #T_19936_row7_col4 {\n",
       "  background-color: #3d93c2;\n",
       "  color: #f1f1f1;\n",
       "}\n",
       "#T_19936_row4_col8, #T_19936_row8_col4 {\n",
       "  background-color: #cdd0e5;\n",
       "  color: #000000;\n",
       "}\n",
       "#T_19936_row4_col9, #T_19936_row9_col4 {\n",
       "  background-color: #dad9ea;\n",
       "  color: #000000;\n",
       "}\n",
       "#T_19936_row5_col6, #T_19936_row6_col5 {\n",
       "  background-color: #f3edf5;\n",
       "  color: #000000;\n",
       "}\n",
       "#T_19936_row5_col7, #T_19936_row7_col5 {\n",
       "  background-color: #c1cae2;\n",
       "  color: #000000;\n",
       "}\n",
       "#T_19936_row5_col10, #T_19936_row10_col5 {\n",
       "  background-color: #d9d8ea;\n",
       "  color: #000000;\n",
       "}\n",
       "#T_19936_row6_col7, #T_19936_row7_col6 {\n",
       "  background-color: #acc0dd;\n",
       "  color: #000000;\n",
       "}\n",
       "#T_19936_row6_col8, #T_19936_row8_col6 {\n",
       "  background-color: #b0c2de;\n",
       "  color: #000000;\n",
       "}\n",
       "#T_19936_row6_col9, #T_19936_row9_col6 {\n",
       "  background-color: #abbfdc;\n",
       "  color: #000000;\n",
       "}\n",
       "#T_19936_row6_col10, #T_19936_row10_col6 {\n",
       "  background-color: #f4eef6;\n",
       "  color: #000000;\n",
       "}\n",
       "#T_19936_row7_col8, #T_19936_row8_col7 {\n",
       "  background-color: #a8bedc;\n",
       "  color: #000000;\n",
       "}\n",
       "#T_19936_row7_col9, #T_19936_row9_col7 {\n",
       "  background-color: #c8cde4;\n",
       "  color: #000000;\n",
       "}\n",
       "#T_19936_row8_col9, #T_19936_row9_col8 {\n",
       "  background-color: #3790c0;\n",
       "  color: #f1f1f1;\n",
       "}\n",
       "#T_19936_row8_col10, #T_19936_row10_col8 {\n",
       "  background-color: #fdf5fa;\n",
       "  color: #000000;\n",
       "}\n",
       "#T_19936_row9_col10, #T_19936_row10_col9 {\n",
       "  background-color: #fef6fa;\n",
       "  color: #000000;\n",
       "}\n",
       "</style>\n",
       "<table id=\"T_19936\">\n",
       "  <thead>\n",
       "    <tr>\n",
       "      <th class=\"blank level0\" >&nbsp;</th>\n",
       "      <th id=\"T_19936_level0_col0\" class=\"col_heading level0 col0\" >Molly ate a fish</th>\n",
       "      <th id=\"T_19936_level0_col1\" class=\"col_heading level0 col1\" >Jen consumed a carp</th>\n",
       "      <th id=\"T_19936_level0_col2\" class=\"col_heading level0 col2\" >I would like to sell you a house</th>\n",
       "      <th id=\"T_19936_level0_col3\" class=\"col_heading level0 col3\" >Я пытаюсь купить дачу</th>\n",
       "      <th id=\"T_19936_level0_col4\" class=\"col_heading level0 col4\" >J'aimerais vous louer un grand appartement</th>\n",
       "      <th id=\"T_19936_level0_col5\" class=\"col_heading level0 col5\" >This is a wonderful investment opportunity</th>\n",
       "      <th id=\"T_19936_level0_col6\" class=\"col_heading level0 col6\" >Это прекрасная возможность для инвестиций</th>\n",
       "      <th id=\"T_19936_level0_col7\" class=\"col_heading level0 col7\" >C'est une merveilleuse opportunité d'investissement</th>\n",
       "      <th id=\"T_19936_level0_col8\" class=\"col_heading level0 col8\" >これは素晴らしい投資機会です</th>\n",
       "      <th id=\"T_19936_level0_col9\" class=\"col_heading level0 col9\" >野球はあなたが思うよりも面白いことがあります</th>\n",
       "      <th id=\"T_19936_level0_col10\" class=\"col_heading level0 col10\" >Baseball can be more interesting than you'd think</th>\n",
       "    </tr>\n",
       "  </thead>\n",
       "  <tbody>\n",
       "    <tr>\n",
       "      <th id=\"T_19936_level0_row0\" class=\"row_heading level0 row0\" >Molly ate a fish</th>\n",
       "      <td id=\"T_19936_row0_col0\" class=\"data row0 col0\" >1.000000</td>\n",
       "      <td id=\"T_19936_row0_col1\" class=\"data row0 col1\" >0.526053</td>\n",
       "      <td id=\"T_19936_row0_col2\" class=\"data row0 col2\" >0.025476</td>\n",
       "      <td id=\"T_19936_row0_col3\" class=\"data row0 col3\" >0.098335</td>\n",
       "      <td id=\"T_19936_row0_col4\" class=\"data row0 col4\" >0.020435</td>\n",
       "      <td id=\"T_19936_row0_col5\" class=\"data row0 col5\" >-0.065293</td>\n",
       "      <td id=\"T_19936_row0_col6\" class=\"data row0 col6\" >0.035801</td>\n",
       "      <td id=\"T_19936_row0_col7\" class=\"data row0 col7\" >-0.062506</td>\n",
       "      <td id=\"T_19936_row0_col8\" class=\"data row0 col8\" >0.027358</td>\n",
       "      <td id=\"T_19936_row0_col9\" class=\"data row0 col9\" >0.017622</td>\n",
       "      <td id=\"T_19936_row0_col10\" class=\"data row0 col10\" >0.013324</td>\n",
       "    </tr>\n",
       "    <tr>\n",
       "      <th id=\"T_19936_level0_row1\" class=\"row_heading level0 row1\" >Jen consumed a carp</th>\n",
       "      <td id=\"T_19936_row1_col0\" class=\"data row1 col0\" >0.526053</td>\n",
       "      <td id=\"T_19936_row1_col1\" class=\"data row1 col1\" >1.000000</td>\n",
       "      <td id=\"T_19936_row1_col2\" class=\"data row1 col2\" >0.044178</td>\n",
       "      <td id=\"T_19936_row1_col3\" class=\"data row1 col3\" >0.035044</td>\n",
       "      <td id=\"T_19936_row1_col4\" class=\"data row1 col4\" >-0.018194</td>\n",
       "      <td id=\"T_19936_row1_col5\" class=\"data row1 col5\" >-0.004438</td>\n",
       "      <td id=\"T_19936_row1_col6\" class=\"data row1 col6\" >-0.078566</td>\n",
       "      <td id=\"T_19936_row1_col7\" class=\"data row1 col7\" >-0.011418</td>\n",
       "      <td id=\"T_19936_row1_col8\" class=\"data row1 col8\" >0.090357</td>\n",
       "      <td id=\"T_19936_row1_col9\" class=\"data row1 col9\" >0.131507</td>\n",
       "      <td id=\"T_19936_row1_col10\" class=\"data row1 col10\" >0.010598</td>\n",
       "    </tr>\n",
       "    <tr>\n",
       "      <th id=\"T_19936_level0_row2\" class=\"row_heading level0 row2\" >I would like to sell you a house</th>\n",
       "      <td id=\"T_19936_row2_col0\" class=\"data row2 col0\" >0.025476</td>\n",
       "      <td id=\"T_19936_row2_col1\" class=\"data row2 col1\" >0.044178</td>\n",
       "      <td id=\"T_19936_row2_col2\" class=\"data row2 col2\" >1.000000</td>\n",
       "      <td id=\"T_19936_row2_col3\" class=\"data row2 col3\" >0.154773</td>\n",
       "      <td id=\"T_19936_row2_col4\" class=\"data row2 col4\" >0.083555</td>\n",
       "      <td id=\"T_19936_row2_col5\" class=\"data row2 col5\" >0.386736</td>\n",
       "      <td id=\"T_19936_row2_col6\" class=\"data row2 col6\" >0.017175</td>\n",
       "      <td id=\"T_19936_row2_col7\" class=\"data row2 col7\" >-0.006744</td>\n",
       "      <td id=\"T_19936_row2_col8\" class=\"data row2 col8\" >0.010857</td>\n",
       "      <td id=\"T_19936_row2_col9\" class=\"data row2 col9\" >0.025510</td>\n",
       "      <td id=\"T_19936_row2_col10\" class=\"data row2 col10\" >-0.001803</td>\n",
       "    </tr>\n",
       "    <tr>\n",
       "      <th id=\"T_19936_level0_row3\" class=\"row_heading level0 row3\" >Я пытаюсь купить дачу</th>\n",
       "      <td id=\"T_19936_row3_col0\" class=\"data row3 col0\" >0.098335</td>\n",
       "      <td id=\"T_19936_row3_col1\" class=\"data row3 col1\" >0.035044</td>\n",
       "      <td id=\"T_19936_row3_col2\" class=\"data row3 col2\" >0.154773</td>\n",
       "      <td id=\"T_19936_row3_col3\" class=\"data row3 col3\" >1.000000</td>\n",
       "      <td id=\"T_19936_row3_col4\" class=\"data row3 col4\" >0.159519</td>\n",
       "      <td id=\"T_19936_row3_col5\" class=\"data row3 col5\" >0.064379</td>\n",
       "      <td id=\"T_19936_row3_col6\" class=\"data row3 col6\" >0.462397</td>\n",
       "      <td id=\"T_19936_row3_col7\" class=\"data row3 col7\" >0.092110</td>\n",
       "      <td id=\"T_19936_row3_col8\" class=\"data row3 col8\" >0.314708</td>\n",
       "      <td id=\"T_19936_row3_col9\" class=\"data row3 col9\" >0.327675</td>\n",
       "      <td id=\"T_19936_row3_col10\" class=\"data row3 col10\" >-0.119706</td>\n",
       "    </tr>\n",
       "    <tr>\n",
       "      <th id=\"T_19936_level0_row4\" class=\"row_heading level0 row4\" >J'aimerais vous louer un grand appartement</th>\n",
       "      <td id=\"T_19936_row4_col0\" class=\"data row4 col0\" >0.020435</td>\n",
       "      <td id=\"T_19936_row4_col1\" class=\"data row4 col1\" >-0.018194</td>\n",
       "      <td id=\"T_19936_row4_col2\" class=\"data row4 col2\" >0.083555</td>\n",
       "      <td id=\"T_19936_row4_col3\" class=\"data row4 col3\" >0.159519</td>\n",
       "      <td id=\"T_19936_row4_col4\" class=\"data row4 col4\" >1.000000</td>\n",
       "      <td id=\"T_19936_row4_col5\" class=\"data row4 col5\" >0.032253</td>\n",
       "      <td id=\"T_19936_row4_col6\" class=\"data row4 col6\" >0.365505</td>\n",
       "      <td id=\"T_19936_row4_col7\" class=\"data row4 col7\" >0.566635</td>\n",
       "      <td id=\"T_19936_row4_col8\" class=\"data row4 col8\" >0.172406</td>\n",
       "      <td id=\"T_19936_row4_col9\" class=\"data row4 col9\" >0.110118</td>\n",
       "      <td id=\"T_19936_row4_col10\" class=\"data row4 col10\" >0.007807</td>\n",
       "    </tr>\n",
       "    <tr>\n",
       "      <th id=\"T_19936_level0_row5\" class=\"row_heading level0 row5\" >This is a wonderful investment opportunity</th>\n",
       "      <td id=\"T_19936_row5_col0\" class=\"data row5 col0\" >-0.065293</td>\n",
       "      <td id=\"T_19936_row5_col1\" class=\"data row5 col1\" >-0.004438</td>\n",
       "      <td id=\"T_19936_row5_col2\" class=\"data row5 col2\" >0.386736</td>\n",
       "      <td id=\"T_19936_row5_col3\" class=\"data row5 col3\" >0.064379</td>\n",
       "      <td id=\"T_19936_row5_col4\" class=\"data row5 col4\" >0.032253</td>\n",
       "      <td id=\"T_19936_row5_col5\" class=\"data row5 col5\" >1.000000</td>\n",
       "      <td id=\"T_19936_row5_col6\" class=\"data row5 col6\" >-0.030322</td>\n",
       "      <td id=\"T_19936_row5_col7\" class=\"data row5 col7\" >0.212230</td>\n",
       "      <td id=\"T_19936_row5_col8\" class=\"data row5 col8\" >0.023889</td>\n",
       "      <td id=\"T_19936_row5_col9\" class=\"data row5 col9\" >-0.002844</td>\n",
       "      <td id=\"T_19936_row5_col10\" class=\"data row5 col10\" >0.114933</td>\n",
       "    </tr>\n",
       "    <tr>\n",
       "      <th id=\"T_19936_level0_row6\" class=\"row_heading level0 row6\" >Это прекрасная возможность для инвестиций</th>\n",
       "      <td id=\"T_19936_row6_col0\" class=\"data row6 col0\" >0.035801</td>\n",
       "      <td id=\"T_19936_row6_col1\" class=\"data row6 col1\" >-0.078566</td>\n",
       "      <td id=\"T_19936_row6_col2\" class=\"data row6 col2\" >0.017175</td>\n",
       "      <td id=\"T_19936_row6_col3\" class=\"data row6 col3\" >0.462397</td>\n",
       "      <td id=\"T_19936_row6_col4\" class=\"data row6 col4\" >0.365505</td>\n",
       "      <td id=\"T_19936_row6_col5\" class=\"data row6 col5\" >-0.030322</td>\n",
       "      <td id=\"T_19936_row6_col6\" class=\"data row6 col6\" >1.000000</td>\n",
       "      <td id=\"T_19936_row6_col7\" class=\"data row6 col7\" >0.282414</td>\n",
       "      <td id=\"T_19936_row6_col8\" class=\"data row6 col8\" >0.267571</td>\n",
       "      <td id=\"T_19936_row6_col9\" class=\"data row6 col9\" >0.285873</td>\n",
       "      <td id=\"T_19936_row6_col10\" class=\"data row6 col10\" >-0.039264</td>\n",
       "    </tr>\n",
       "    <tr>\n",
       "      <th id=\"T_19936_level0_row7\" class=\"row_heading level0 row7\" >C'est une merveilleuse opportunité d'investissement</th>\n",
       "      <td id=\"T_19936_row7_col0\" class=\"data row7 col0\" >-0.062506</td>\n",
       "      <td id=\"T_19936_row7_col1\" class=\"data row7 col1\" >-0.011418</td>\n",
       "      <td id=\"T_19936_row7_col2\" class=\"data row7 col2\" >-0.006744</td>\n",
       "      <td id=\"T_19936_row7_col3\" class=\"data row7 col3\" >0.092110</td>\n",
       "      <td id=\"T_19936_row7_col4\" class=\"data row7 col4\" >0.566635</td>\n",
       "      <td id=\"T_19936_row7_col5\" class=\"data row7 col5\" >0.212230</td>\n",
       "      <td id=\"T_19936_row7_col6\" class=\"data row7 col6\" >0.282414</td>\n",
       "      <td id=\"T_19936_row7_col7\" class=\"data row7 col7\" >1.000000</td>\n",
       "      <td id=\"T_19936_row7_col8\" class=\"data row7 col8\" >0.292651</td>\n",
       "      <td id=\"T_19936_row7_col9\" class=\"data row7 col9\" >0.187989</td>\n",
       "      <td id=\"T_19936_row7_col10\" class=\"data row7 col10\" >0.021442</td>\n",
       "    </tr>\n",
       "    <tr>\n",
       "      <th id=\"T_19936_level0_row8\" class=\"row_heading level0 row8\" >これは素晴らしい投資機会です</th>\n",
       "      <td id=\"T_19936_row8_col0\" class=\"data row8 col0\" >0.027358</td>\n",
       "      <td id=\"T_19936_row8_col1\" class=\"data row8 col1\" >0.090357</td>\n",
       "      <td id=\"T_19936_row8_col2\" class=\"data row8 col2\" >0.010857</td>\n",
       "      <td id=\"T_19936_row8_col3\" class=\"data row8 col3\" >0.314708</td>\n",
       "      <td id=\"T_19936_row8_col4\" class=\"data row8 col4\" >0.172406</td>\n",
       "      <td id=\"T_19936_row8_col5\" class=\"data row8 col5\" >0.023889</td>\n",
       "      <td id=\"T_19936_row8_col6\" class=\"data row8 col6\" >0.267571</td>\n",
       "      <td id=\"T_19936_row8_col7\" class=\"data row8 col7\" >0.292651</td>\n",
       "      <td id=\"T_19936_row8_col8\" class=\"data row8 col8\" >1.000000</td>\n",
       "      <td id=\"T_19936_row8_col9\" class=\"data row8 col9\" >0.577265</td>\n",
       "      <td id=\"T_19936_row8_col10\" class=\"data row8 col10\" >-0.101104</td>\n",
       "    </tr>\n",
       "    <tr>\n",
       "      <th id=\"T_19936_level0_row9\" class=\"row_heading level0 row9\" >野球はあなたが思うよりも面白いことがあります</th>\n",
       "      <td id=\"T_19936_row9_col0\" class=\"data row9 col0\" >0.017622</td>\n",
       "      <td id=\"T_19936_row9_col1\" class=\"data row9 col1\" >0.131507</td>\n",
       "      <td id=\"T_19936_row9_col2\" class=\"data row9 col2\" >0.025510</td>\n",
       "      <td id=\"T_19936_row9_col3\" class=\"data row9 col3\" >0.327675</td>\n",
       "      <td id=\"T_19936_row9_col4\" class=\"data row9 col4\" >0.110118</td>\n",
       "      <td id=\"T_19936_row9_col5\" class=\"data row9 col5\" >-0.002844</td>\n",
       "      <td id=\"T_19936_row9_col6\" class=\"data row9 col6\" >0.285873</td>\n",
       "      <td id=\"T_19936_row9_col7\" class=\"data row9 col7\" >0.187989</td>\n",
       "      <td id=\"T_19936_row9_col8\" class=\"data row9 col8\" >0.577265</td>\n",
       "      <td id=\"T_19936_row9_col9\" class=\"data row9 col9\" >1.000000</td>\n",
       "      <td id=\"T_19936_row9_col10\" class=\"data row9 col10\" >-0.107835</td>\n",
       "    </tr>\n",
       "    <tr>\n",
       "      <th id=\"T_19936_level0_row10\" class=\"row_heading level0 row10\" >Baseball can be more interesting than you'd think</th>\n",
       "      <td id=\"T_19936_row10_col0\" class=\"data row10 col0\" >0.013324</td>\n",
       "      <td id=\"T_19936_row10_col1\" class=\"data row10 col1\" >0.010598</td>\n",
       "      <td id=\"T_19936_row10_col2\" class=\"data row10 col2\" >-0.001803</td>\n",
       "      <td id=\"T_19936_row10_col3\" class=\"data row10 col3\" >-0.119706</td>\n",
       "      <td id=\"T_19936_row10_col4\" class=\"data row10 col4\" >0.007807</td>\n",
       "      <td id=\"T_19936_row10_col5\" class=\"data row10 col5\" >0.114933</td>\n",
       "      <td id=\"T_19936_row10_col6\" class=\"data row10 col6\" >-0.039264</td>\n",
       "      <td id=\"T_19936_row10_col7\" class=\"data row10 col7\" >0.021442</td>\n",
       "      <td id=\"T_19936_row10_col8\" class=\"data row10 col8\" >-0.101104</td>\n",
       "      <td id=\"T_19936_row10_col9\" class=\"data row10 col9\" >-0.107835</td>\n",
       "      <td id=\"T_19936_row10_col10\" class=\"data row10 col10\" >1.000000</td>\n",
       "    </tr>\n",
       "  </tbody>\n",
       "</table>\n"
      ],
      "text/plain": [
       "<pandas.io.formats.style.Styler at 0x29769a830>"
      ]
     },
     "execution_count": 81,
     "metadata": {},
     "output_type": "execute_result"
    }
   ],
   "source": [
    "from sklearn.metrics.pairwise import cosine_similarity\n",
    "\n",
    "# Compute similarities exactly the same as we did before!\n",
    "similarities = cosine_similarity(embeddings)\n",
    "\n",
    "# Turn into a dataframe\n",
    "pd.DataFrame(similarities,\n",
    "            index=sentences,\n",
    "            columns=sentences) \\\n",
    "            .style \\\n",
    "            .background_gradient(axis=None)"
   ]
  },
  {
   "cell_type": "code",
   "execution_count": 82,
   "id": "d8f335f8",
   "metadata": {},
   "outputs": [],
   "source": [
    "model = SentenceTransformer('sentence-transformers/distiluse-base-multilingual-cased-v2')\n",
    "embeddings = model.encode(sentences)"
   ]
  },
  {
   "cell_type": "code",
   "execution_count": 83,
   "id": "87a3d443",
   "metadata": {},
   "outputs": [
    {
     "data": {
      "text/html": [
       "<style type=\"text/css\">\n",
       "#T_4ce9f_row0_col0, #T_4ce9f_row1_col1, #T_4ce9f_row2_col2, #T_4ce9f_row3_col3, #T_4ce9f_row4_col4, #T_4ce9f_row5_col5, #T_4ce9f_row6_col6, #T_4ce9f_row7_col7, #T_4ce9f_row8_col8, #T_4ce9f_row9_col9, #T_4ce9f_row10_col10 {\n",
       "  background-color: #023858;\n",
       "  color: #f1f1f1;\n",
       "}\n",
       "#T_4ce9f_row0_col1, #T_4ce9f_row1_col0 {\n",
       "  background-color: #93b5d6;\n",
       "  color: #000000;\n",
       "}\n",
       "#T_4ce9f_row0_col2, #T_4ce9f_row1_col2, #T_4ce9f_row2_col0, #T_4ce9f_row2_col1 {\n",
       "  background-color: #e6e2ef;\n",
       "  color: #000000;\n",
       "}\n",
       "#T_4ce9f_row0_col3, #T_4ce9f_row3_col0 {\n",
       "  background-color: #d4d4e8;\n",
       "  color: #000000;\n",
       "}\n",
       "#T_4ce9f_row0_col4, #T_4ce9f_row1_col5, #T_4ce9f_row1_col7, #T_4ce9f_row4_col0, #T_4ce9f_row5_col1, #T_4ce9f_row7_col1 {\n",
       "  background-color: #f3edf5;\n",
       "  color: #000000;\n",
       "}\n",
       "#T_4ce9f_row0_col5, #T_4ce9f_row5_col0 {\n",
       "  background-color: #faf2f8;\n",
       "  color: #000000;\n",
       "}\n",
       "#T_4ce9f_row0_col6, #T_4ce9f_row0_col7, #T_4ce9f_row6_col0, #T_4ce9f_row7_col0 {\n",
       "  background-color: #faf3f9;\n",
       "  color: #000000;\n",
       "}\n",
       "#T_4ce9f_row0_col8, #T_4ce9f_row8_col0 {\n",
       "  background-color: #fff7fb;\n",
       "  color: #000000;\n",
       "}\n",
       "#T_4ce9f_row0_col9, #T_4ce9f_row1_col6, #T_4ce9f_row6_col1, #T_4ce9f_row9_col0 {\n",
       "  background-color: #f4edf6;\n",
       "  color: #000000;\n",
       "}\n",
       "#T_4ce9f_row0_col10, #T_4ce9f_row10_col0 {\n",
       "  background-color: #f2ecf5;\n",
       "  color: #000000;\n",
       "}\n",
       "#T_4ce9f_row1_col3, #T_4ce9f_row3_col1 {\n",
       "  background-color: #c9cee4;\n",
       "  color: #000000;\n",
       "}\n",
       "#T_4ce9f_row1_col4, #T_4ce9f_row4_col1 {\n",
       "  background-color: #f0eaf4;\n",
       "  color: #000000;\n",
       "}\n",
       "#T_4ce9f_row1_col8, #T_4ce9f_row8_col1 {\n",
       "  background-color: #fcf4fa;\n",
       "  color: #000000;\n",
       "}\n",
       "#T_4ce9f_row1_col9, #T_4ce9f_row2_col8, #T_4ce9f_row8_col2, #T_4ce9f_row9_col1 {\n",
       "  background-color: #e9e5f1;\n",
       "  color: #000000;\n",
       "}\n",
       "#T_4ce9f_row1_col10, #T_4ce9f_row3_col9, #T_4ce9f_row9_col3, #T_4ce9f_row10_col1 {\n",
       "  background-color: #e7e3f0;\n",
       "  color: #000000;\n",
       "}\n",
       "#T_4ce9f_row2_col3, #T_4ce9f_row3_col2 {\n",
       "  background-color: #7dacd1;\n",
       "  color: #f1f1f1;\n",
       "}\n",
       "#T_4ce9f_row2_col4, #T_4ce9f_row4_col2 {\n",
       "  background-color: #2182b9;\n",
       "  color: #f1f1f1;\n",
       "}\n",
       "#T_4ce9f_row2_col5, #T_4ce9f_row5_col2 {\n",
       "  background-color: #e1dfed;\n",
       "  color: #000000;\n",
       "}\n",
       "#T_4ce9f_row2_col6, #T_4ce9f_row2_col10, #T_4ce9f_row3_col8, #T_4ce9f_row6_col2, #T_4ce9f_row8_col3, #T_4ce9f_row10_col2 {\n",
       "  background-color: #dad9ea;\n",
       "  color: #000000;\n",
       "}\n",
       "#T_4ce9f_row2_col7, #T_4ce9f_row7_col2 {\n",
       "  background-color: #e4e1ef;\n",
       "  color: #000000;\n",
       "}\n",
       "#T_4ce9f_row2_col9, #T_4ce9f_row3_col7, #T_4ce9f_row7_col3, #T_4ce9f_row9_col2 {\n",
       "  background-color: #d5d5e8;\n",
       "  color: #000000;\n",
       "}\n",
       "#T_4ce9f_row3_col4, #T_4ce9f_row4_col3 {\n",
       "  background-color: #96b6d7;\n",
       "  color: #000000;\n",
       "}\n",
       "#T_4ce9f_row3_col5, #T_4ce9f_row5_col3 {\n",
       "  background-color: #d9d8ea;\n",
       "  color: #000000;\n",
       "}\n",
       "#T_4ce9f_row3_col6, #T_4ce9f_row6_col3 {\n",
       "  background-color: #cacee5;\n",
       "  color: #000000;\n",
       "}\n",
       "#T_4ce9f_row3_col10, #T_4ce9f_row10_col3 {\n",
       "  background-color: #ede7f2;\n",
       "  color: #000000;\n",
       "}\n",
       "#T_4ce9f_row4_col5, #T_4ce9f_row4_col7, #T_4ce9f_row4_col9, #T_4ce9f_row5_col4, #T_4ce9f_row7_col4, #T_4ce9f_row9_col4 {\n",
       "  background-color: #c5cce3;\n",
       "  color: #000000;\n",
       "}\n",
       "#T_4ce9f_row4_col6, #T_4ce9f_row6_col4 {\n",
       "  background-color: #bbc7e0;\n",
       "  color: #000000;\n",
       "}\n",
       "#T_4ce9f_row4_col8, #T_4ce9f_row8_col4 {\n",
       "  background-color: #c8cde4;\n",
       "  color: #000000;\n",
       "}\n",
       "#T_4ce9f_row4_col10, #T_4ce9f_row10_col4 {\n",
       "  background-color: #d7d6e9;\n",
       "  color: #000000;\n",
       "}\n",
       "#T_4ce9f_row5_col6, #T_4ce9f_row6_col5 {\n",
       "  background-color: #034369;\n",
       "  color: #f1f1f1;\n",
       "}\n",
       "#T_4ce9f_row5_col7, #T_4ce9f_row7_col5 {\n",
       "  background-color: #034165;\n",
       "  color: #f1f1f1;\n",
       "}\n",
       "#T_4ce9f_row5_col8, #T_4ce9f_row6_col8, #T_4ce9f_row8_col5, #T_4ce9f_row8_col6 {\n",
       "  background-color: #03456c;\n",
       "  color: #f1f1f1;\n",
       "}\n",
       "#T_4ce9f_row5_col9, #T_4ce9f_row9_col5 {\n",
       "  background-color: #e5e1ef;\n",
       "  color: #000000;\n",
       "}\n",
       "#T_4ce9f_row5_col10, #T_4ce9f_row10_col5 {\n",
       "  background-color: #dedcec;\n",
       "  color: #000000;\n",
       "}\n",
       "#T_4ce9f_row6_col7, #T_4ce9f_row7_col6 {\n",
       "  background-color: #023f64;\n",
       "  color: #f1f1f1;\n",
       "}\n",
       "#T_4ce9f_row6_col9, #T_4ce9f_row7_col9, #T_4ce9f_row9_col6, #T_4ce9f_row9_col7 {\n",
       "  background-color: #e0deed;\n",
       "  color: #000000;\n",
       "}\n",
       "#T_4ce9f_row6_col10, #T_4ce9f_row10_col6 {\n",
       "  background-color: #dddbec;\n",
       "  color: #000000;\n",
       "}\n",
       "#T_4ce9f_row7_col8, #T_4ce9f_row8_col7 {\n",
       "  background-color: #034267;\n",
       "  color: #f1f1f1;\n",
       "}\n",
       "#T_4ce9f_row7_col10, #T_4ce9f_row10_col7 {\n",
       "  background-color: #dbdaeb;\n",
       "  color: #000000;\n",
       "}\n",
       "#T_4ce9f_row8_col9, #T_4ce9f_row9_col8 {\n",
       "  background-color: #e0dded;\n",
       "  color: #000000;\n",
       "}\n",
       "#T_4ce9f_row8_col10, #T_4ce9f_row10_col8 {\n",
       "  background-color: #e2dfee;\n",
       "  color: #000000;\n",
       "}\n",
       "#T_4ce9f_row9_col10, #T_4ce9f_row10_col9 {\n",
       "  background-color: #04588a;\n",
       "  color: #f1f1f1;\n",
       "}\n",
       "</style>\n",
       "<table id=\"T_4ce9f\">\n",
       "  <thead>\n",
       "    <tr>\n",
       "      <th class=\"blank level0\" >&nbsp;</th>\n",
       "      <th id=\"T_4ce9f_level0_col0\" class=\"col_heading level0 col0\" >Molly ate a fish</th>\n",
       "      <th id=\"T_4ce9f_level0_col1\" class=\"col_heading level0 col1\" >Jen consumed a carp</th>\n",
       "      <th id=\"T_4ce9f_level0_col2\" class=\"col_heading level0 col2\" >I would like to sell you a house</th>\n",
       "      <th id=\"T_4ce9f_level0_col3\" class=\"col_heading level0 col3\" >Я пытаюсь купить дачу</th>\n",
       "      <th id=\"T_4ce9f_level0_col4\" class=\"col_heading level0 col4\" >J'aimerais vous louer un grand appartement</th>\n",
       "      <th id=\"T_4ce9f_level0_col5\" class=\"col_heading level0 col5\" >This is a wonderful investment opportunity</th>\n",
       "      <th id=\"T_4ce9f_level0_col6\" class=\"col_heading level0 col6\" >Это прекрасная возможность для инвестиций</th>\n",
       "      <th id=\"T_4ce9f_level0_col7\" class=\"col_heading level0 col7\" >C'est une merveilleuse opportunité d'investissement</th>\n",
       "      <th id=\"T_4ce9f_level0_col8\" class=\"col_heading level0 col8\" >これは素晴らしい投資機会です</th>\n",
       "      <th id=\"T_4ce9f_level0_col9\" class=\"col_heading level0 col9\" >野球はあなたが思うよりも面白いことがあります</th>\n",
       "      <th id=\"T_4ce9f_level0_col10\" class=\"col_heading level0 col10\" >Baseball can be more interesting than you'd think</th>\n",
       "    </tr>\n",
       "  </thead>\n",
       "  <tbody>\n",
       "    <tr>\n",
       "      <th id=\"T_4ce9f_level0_row0\" class=\"row_heading level0 row0\" >Molly ate a fish</th>\n",
       "      <td id=\"T_4ce9f_row0_col0\" class=\"data row0 col0\" >1.000000</td>\n",
       "      <td id=\"T_4ce9f_row0_col1\" class=\"data row0 col1\" >0.358347</td>\n",
       "      <td id=\"T_4ce9f_row0_col2\" class=\"data row0 col2\" >0.058340</td>\n",
       "      <td id=\"T_4ce9f_row0_col3\" class=\"data row0 col3\" >0.145439</td>\n",
       "      <td id=\"T_4ce9f_row0_col4\" class=\"data row0 col4\" >-0.024103</td>\n",
       "      <td id=\"T_4ce9f_row0_col5\" class=\"data row0 col5\" >-0.070145</td>\n",
       "      <td id=\"T_4ce9f_row0_col6\" class=\"data row0 col6\" >-0.075333</td>\n",
       "      <td id=\"T_4ce9f_row0_col7\" class=\"data row0 col7\" >-0.073496</td>\n",
       "      <td id=\"T_4ce9f_row0_col8\" class=\"data row0 col8\" >-0.111467</td>\n",
       "      <td id=\"T_4ce9f_row0_col9\" class=\"data row0 col9\" >-0.025614</td>\n",
       "      <td id=\"T_4ce9f_row0_col10\" class=\"data row0 col10\" >-0.012353</td>\n",
       "    </tr>\n",
       "    <tr>\n",
       "      <th id=\"T_4ce9f_level0_row1\" class=\"row_heading level0 row1\" >Jen consumed a carp</th>\n",
       "      <td id=\"T_4ce9f_row1_col0\" class=\"data row1 col0\" >0.358347</td>\n",
       "      <td id=\"T_4ce9f_row1_col1\" class=\"data row1 col1\" >1.000000</td>\n",
       "      <td id=\"T_4ce9f_row1_col2\" class=\"data row1 col2\" >0.059195</td>\n",
       "      <td id=\"T_4ce9f_row1_col3\" class=\"data row1 col3\" >0.190241</td>\n",
       "      <td id=\"T_4ce9f_row1_col4\" class=\"data row1 col4\" >-0.001941</td>\n",
       "      <td id=\"T_4ce9f_row1_col5\" class=\"data row1 col5\" >-0.024359</td>\n",
       "      <td id=\"T_4ce9f_row1_col6\" class=\"data row1 col6\" >-0.024816</td>\n",
       "      <td id=\"T_4ce9f_row1_col7\" class=\"data row1 col7\" >-0.023295</td>\n",
       "      <td id=\"T_4ce9f_row1_col8\" class=\"data row1 col8\" >-0.087019</td>\n",
       "      <td id=\"T_4ce9f_row1_col9\" class=\"data row1 col9\" >0.040799</td>\n",
       "      <td id=\"T_4ce9f_row1_col10\" class=\"data row1 col10\" >0.054475</td>\n",
       "    </tr>\n",
       "    <tr>\n",
       "      <th id=\"T_4ce9f_level0_row2\" class=\"row_heading level0 row2\" >I would like to sell you a house</th>\n",
       "      <td id=\"T_4ce9f_row2_col0\" class=\"data row2 col0\" >0.058340</td>\n",
       "      <td id=\"T_4ce9f_row2_col1\" class=\"data row2 col1\" >0.059195</td>\n",
       "      <td id=\"T_4ce9f_row2_col2\" class=\"data row2 col2\" >1.000000</td>\n",
       "      <td id=\"T_4ce9f_row2_col3\" class=\"data row2 col3\" >0.418692</td>\n",
       "      <td id=\"T_4ce9f_row2_col4\" class=\"data row2 col4\" >0.642746</td>\n",
       "      <td id=\"T_4ce9f_row2_col5\" class=\"data row2 col5\" >0.081795</td>\n",
       "      <td id=\"T_4ce9f_row2_col6\" class=\"data row2 col6\" >0.118611</td>\n",
       "      <td id=\"T_4ce9f_row2_col7\" class=\"data row2 col7\" >0.067805</td>\n",
       "      <td id=\"T_4ce9f_row2_col8\" class=\"data row2 col8\" >0.042560</td>\n",
       "      <td id=\"T_4ce9f_row2_col9\" class=\"data row2 col9\" >0.144491</td>\n",
       "      <td id=\"T_4ce9f_row2_col10\" class=\"data row2 col10\" >0.117145</td>\n",
       "    </tr>\n",
       "    <tr>\n",
       "      <th id=\"T_4ce9f_level0_row3\" class=\"row_heading level0 row3\" >Я пытаюсь купить дачу</th>\n",
       "      <td id=\"T_4ce9f_row3_col0\" class=\"data row3 col0\" >0.145439</td>\n",
       "      <td id=\"T_4ce9f_row3_col1\" class=\"data row3 col1\" >0.190241</td>\n",
       "      <td id=\"T_4ce9f_row3_col2\" class=\"data row3 col2\" >0.418692</td>\n",
       "      <td id=\"T_4ce9f_row3_col3\" class=\"data row3 col3\" >1.000000</td>\n",
       "      <td id=\"T_4ce9f_row3_col4\" class=\"data row3 col4\" >0.351605</td>\n",
       "      <td id=\"T_4ce9f_row3_col5\" class=\"data row3 col5\" >0.120679</td>\n",
       "      <td id=\"T_4ce9f_row3_col6\" class=\"data row3 col6\" >0.184644</td>\n",
       "      <td id=\"T_4ce9f_row3_col7\" class=\"data row3 col7\" >0.144633</td>\n",
       "      <td id=\"T_4ce9f_row3_col8\" class=\"data row3 col8\" >0.115598</td>\n",
       "      <td id=\"T_4ce9f_row3_col9\" class=\"data row3 col9\" >0.050505</td>\n",
       "      <td id=\"T_4ce9f_row3_col10\" class=\"data row3 col10\" >0.024810</td>\n",
       "    </tr>\n",
       "    <tr>\n",
       "      <th id=\"T_4ce9f_level0_row4\" class=\"row_heading level0 row4\" >J'aimerais vous louer un grand appartement</th>\n",
       "      <td id=\"T_4ce9f_row4_col0\" class=\"data row4 col0\" >-0.024103</td>\n",
       "      <td id=\"T_4ce9f_row4_col1\" class=\"data row4 col1\" >-0.001941</td>\n",
       "      <td id=\"T_4ce9f_row4_col2\" class=\"data row4 col2\" >0.642746</td>\n",
       "      <td id=\"T_4ce9f_row4_col3\" class=\"data row4 col3\" >0.351605</td>\n",
       "      <td id=\"T_4ce9f_row4_col4\" class=\"data row4 col4\" >1.000000</td>\n",
       "      <td id=\"T_4ce9f_row4_col5\" class=\"data row4 col5\" >0.203307</td>\n",
       "      <td id=\"T_4ce9f_row4_col6\" class=\"data row4 col6\" >0.238716</td>\n",
       "      <td id=\"T_4ce9f_row4_col7\" class=\"data row4 col7\" >0.204762</td>\n",
       "      <td id=\"T_4ce9f_row4_col8\" class=\"data row4 col8\" >0.195163</td>\n",
       "      <td id=\"T_4ce9f_row4_col9\" class=\"data row4 col9\" >0.201317</td>\n",
       "      <td id=\"T_4ce9f_row4_col10\" class=\"data row4 col10\" >0.133963</td>\n",
       "    </tr>\n",
       "    <tr>\n",
       "      <th id=\"T_4ce9f_level0_row5\" class=\"row_heading level0 row5\" >This is a wonderful investment opportunity</th>\n",
       "      <td id=\"T_4ce9f_row5_col0\" class=\"data row5 col0\" >-0.070145</td>\n",
       "      <td id=\"T_4ce9f_row5_col1\" class=\"data row5 col1\" >-0.024359</td>\n",
       "      <td id=\"T_4ce9f_row5_col2\" class=\"data row5 col2\" >0.081795</td>\n",
       "      <td id=\"T_4ce9f_row5_col3\" class=\"data row5 col3\" >0.120679</td>\n",
       "      <td id=\"T_4ce9f_row5_col4\" class=\"data row5 col4\" >0.203307</td>\n",
       "      <td id=\"T_4ce9f_row5_col5\" class=\"data row5 col5\" >1.000000</td>\n",
       "      <td id=\"T_4ce9f_row5_col6\" class=\"data row5 col6\" >0.953561</td>\n",
       "      <td id=\"T_4ce9f_row5_col7\" class=\"data row5 col7\" >0.964282</td>\n",
       "      <td id=\"T_4ce9f_row5_col8\" class=\"data row5 col8\" >0.945246</td>\n",
       "      <td id=\"T_4ce9f_row5_col9\" class=\"data row5 col9\" >0.062618</td>\n",
       "      <td id=\"T_4ce9f_row5_col10\" class=\"data row5 col10\" >0.097885</td>\n",
       "    </tr>\n",
       "    <tr>\n",
       "      <th id=\"T_4ce9f_level0_row6\" class=\"row_heading level0 row6\" >Это прекрасная возможность для инвестиций</th>\n",
       "      <td id=\"T_4ce9f_row6_col0\" class=\"data row6 col0\" >-0.075333</td>\n",
       "      <td id=\"T_4ce9f_row6_col1\" class=\"data row6 col1\" >-0.024816</td>\n",
       "      <td id=\"T_4ce9f_row6_col2\" class=\"data row6 col2\" >0.118611</td>\n",
       "      <td id=\"T_4ce9f_row6_col3\" class=\"data row6 col3\" >0.184644</td>\n",
       "      <td id=\"T_4ce9f_row6_col4\" class=\"data row6 col4\" >0.238716</td>\n",
       "      <td id=\"T_4ce9f_row6_col5\" class=\"data row6 col5\" >0.953561</td>\n",
       "      <td id=\"T_4ce9f_row6_col6\" class=\"data row6 col6\" >1.000000</td>\n",
       "      <td id=\"T_4ce9f_row6_col7\" class=\"data row6 col7\" >0.968368</td>\n",
       "      <td id=\"T_4ce9f_row6_col8\" class=\"data row6 col8\" >0.944719</td>\n",
       "      <td id=\"T_4ce9f_row6_col9\" class=\"data row6 col9\" >0.084221</td>\n",
       "      <td id=\"T_4ce9f_row6_col10\" class=\"data row6 col10\" >0.103252</td>\n",
       "    </tr>\n",
       "    <tr>\n",
       "      <th id=\"T_4ce9f_level0_row7\" class=\"row_heading level0 row7\" >C'est une merveilleuse opportunité d'investissement</th>\n",
       "      <td id=\"T_4ce9f_row7_col0\" class=\"data row7 col0\" >-0.073496</td>\n",
       "      <td id=\"T_4ce9f_row7_col1\" class=\"data row7 col1\" >-0.023295</td>\n",
       "      <td id=\"T_4ce9f_row7_col2\" class=\"data row7 col2\" >0.067805</td>\n",
       "      <td id=\"T_4ce9f_row7_col3\" class=\"data row7 col3\" >0.144633</td>\n",
       "      <td id=\"T_4ce9f_row7_col4\" class=\"data row7 col4\" >0.204762</td>\n",
       "      <td id=\"T_4ce9f_row7_col5\" class=\"data row7 col5\" >0.964282</td>\n",
       "      <td id=\"T_4ce9f_row7_col6\" class=\"data row7 col6\" >0.968368</td>\n",
       "      <td id=\"T_4ce9f_row7_col7\" class=\"data row7 col7\" >1.000000</td>\n",
       "      <td id=\"T_4ce9f_row7_col8\" class=\"data row7 col8\" >0.959357</td>\n",
       "      <td id=\"T_4ce9f_row7_col9\" class=\"data row7 col9\" >0.086458</td>\n",
       "      <td id=\"T_4ce9f_row7_col10\" class=\"data row7 col10\" >0.113237</td>\n",
       "    </tr>\n",
       "    <tr>\n",
       "      <th id=\"T_4ce9f_level0_row8\" class=\"row_heading level0 row8\" >これは素晴らしい投資機会です</th>\n",
       "      <td id=\"T_4ce9f_row8_col0\" class=\"data row8 col0\" >-0.111467</td>\n",
       "      <td id=\"T_4ce9f_row8_col1\" class=\"data row8 col1\" >-0.087019</td>\n",
       "      <td id=\"T_4ce9f_row8_col2\" class=\"data row8 col2\" >0.042560</td>\n",
       "      <td id=\"T_4ce9f_row8_col3\" class=\"data row8 col3\" >0.115598</td>\n",
       "      <td id=\"T_4ce9f_row8_col4\" class=\"data row8 col4\" >0.195163</td>\n",
       "      <td id=\"T_4ce9f_row8_col5\" class=\"data row8 col5\" >0.945246</td>\n",
       "      <td id=\"T_4ce9f_row8_col6\" class=\"data row8 col6\" >0.944719</td>\n",
       "      <td id=\"T_4ce9f_row8_col7\" class=\"data row8 col7\" >0.959357</td>\n",
       "      <td id=\"T_4ce9f_row8_col8\" class=\"data row8 col8\" >1.000000</td>\n",
       "      <td id=\"T_4ce9f_row8_col9\" class=\"data row8 col9\" >0.091451</td>\n",
       "      <td id=\"T_4ce9f_row8_col10\" class=\"data row8 col10\" >0.078595</td>\n",
       "    </tr>\n",
       "    <tr>\n",
       "      <th id=\"T_4ce9f_level0_row9\" class=\"row_heading level0 row9\" >野球はあなたが思うよりも面白いことがあります</th>\n",
       "      <td id=\"T_4ce9f_row9_col0\" class=\"data row9 col0\" >-0.025614</td>\n",
       "      <td id=\"T_4ce9f_row9_col1\" class=\"data row9 col1\" >0.040799</td>\n",
       "      <td id=\"T_4ce9f_row9_col2\" class=\"data row9 col2\" >0.144491</td>\n",
       "      <td id=\"T_4ce9f_row9_col3\" class=\"data row9 col3\" >0.050505</td>\n",
       "      <td id=\"T_4ce9f_row9_col4\" class=\"data row9 col4\" >0.201317</td>\n",
       "      <td id=\"T_4ce9f_row9_col5\" class=\"data row9 col5\" >0.062618</td>\n",
       "      <td id=\"T_4ce9f_row9_col6\" class=\"data row9 col6\" >0.084221</td>\n",
       "      <td id=\"T_4ce9f_row9_col7\" class=\"data row9 col7\" >0.086458</td>\n",
       "      <td id=\"T_4ce9f_row9_col8\" class=\"data row9 col8\" >0.091451</td>\n",
       "      <td id=\"T_4ce9f_row9_col9\" class=\"data row9 col9\" >1.000000</td>\n",
       "      <td id=\"T_4ce9f_row9_col10\" class=\"data row9 col10\" >0.866255</td>\n",
       "    </tr>\n",
       "    <tr>\n",
       "      <th id=\"T_4ce9f_level0_row10\" class=\"row_heading level0 row10\" >Baseball can be more interesting than you'd think</th>\n",
       "      <td id=\"T_4ce9f_row10_col0\" class=\"data row10 col0\" >-0.012353</td>\n",
       "      <td id=\"T_4ce9f_row10_col1\" class=\"data row10 col1\" >0.054475</td>\n",
       "      <td id=\"T_4ce9f_row10_col2\" class=\"data row10 col2\" >0.117145</td>\n",
       "      <td id=\"T_4ce9f_row10_col3\" class=\"data row10 col3\" >0.024810</td>\n",
       "      <td id=\"T_4ce9f_row10_col4\" class=\"data row10 col4\" >0.133963</td>\n",
       "      <td id=\"T_4ce9f_row10_col5\" class=\"data row10 col5\" >0.097885</td>\n",
       "      <td id=\"T_4ce9f_row10_col6\" class=\"data row10 col6\" >0.103252</td>\n",
       "      <td id=\"T_4ce9f_row10_col7\" class=\"data row10 col7\" >0.113237</td>\n",
       "      <td id=\"T_4ce9f_row10_col8\" class=\"data row10 col8\" >0.078595</td>\n",
       "      <td id=\"T_4ce9f_row10_col9\" class=\"data row10 col9\" >0.866255</td>\n",
       "      <td id=\"T_4ce9f_row10_col10\" class=\"data row10 col10\" >1.000000</td>\n",
       "    </tr>\n",
       "  </tbody>\n",
       "</table>\n"
      ],
      "text/plain": [
       "<pandas.io.formats.style.Styler at 0x2cc362fb0>"
      ]
     },
     "execution_count": 83,
     "metadata": {},
     "output_type": "execute_result"
    }
   ],
   "source": [
    "from sklearn.metrics.pairwise import cosine_similarity\n",
    "\n",
    "# Compute similarities exactly the same as we did before!\n",
    "similarities = cosine_similarity(embeddings)\n",
    "\n",
    "# Turn into a dataframe\n",
    "pd.DataFrame(similarities,\n",
    "            index=sentences,\n",
    "            columns=sentences) \\\n",
    "            .style \\\n",
    "            .background_gradient(axis=None)"
   ]
  },
  {
   "cell_type": "markdown",
   "id": "47570515",
   "metadata": {},
   "source": [
    "### Searching across a database"
   ]
  },
  {
   "cell_type": "code",
   "execution_count": 84,
   "id": "8af7c82a",
   "metadata": {},
   "outputs": [
    {
     "data": {
      "text/plain": [
       "456"
      ]
     },
     "execution_count": 84,
     "metadata": {},
     "output_type": "execute_result"
    }
   ],
   "source": [
    "from langchain.document_loaders import TextLoader\n",
    "from langchain.text_splitter import RecursiveCharacterTextSplitter\n",
    "\n",
    "loader = TextLoader('book.txt')\n",
    "documents = loader.load()\n",
    "\n",
    "text_splitter = RecursiveCharacterTextSplitter(chunk_size=1000, chunk_overlap=100)\n",
    "docs = text_splitter.split_documents(documents)\n",
    "len(docs)"
   ]
  },
  {
   "cell_type": "code",
   "execution_count": 86,
   "id": "32e8eaec",
   "metadata": {},
   "outputs": [
    {
     "data": {
      "text/plain": [
       "Document(lc_kwargs={'page_content': 'Nagyon elszomorodott e beszéden a királyfi, elébb nem is akarta hinni,de az inas úgyséval is erősítette, gondolta hát magában, hogy most nemtölti az időt, majd visszafelé jövet haza híjja őket.\\nMentek aztán tovább, beértek egy nagy erdőbe, ott az út egy helyenkétfelé vált, egyik se tudta a járást, elkezdtek tanácskozni, hogy merremenjenek. A mint ott tanácskoznak, egyszer, – mintha csak a föld alólbútt volna ki, vagy az égből cseppent volna, – ott termett egy szép nagyróka. A királyfi a mint meglátta, nyult a nyila után hogy majd meglövi,hát, uramfia, – tán nem is hinnék kendtek, ha nem mondanám, – megszólalta róka emberi nyelven:\\n– No felséges királyfi hát eltévedtek, vagy min tanácskoznak?\\n– Hiszen nem tévedtünk épen el – felelt neki a királyfi, – hanem aztcsakugyan nem tudjuk, hogy e közül a két út közül melyik visz aVerestengerhez. Hát miért kérded?\\n– Csak azért, mert én útba tudom igazitani a királyfit, tudom a járástezen a tájékon. De hát mért mennek a Verestengerhez?', 'metadata': {'source': 'book.txt'}}, page_content='Nagyon elszomorodott e beszéden a királyfi, elébb nem is akarta hinni,de az inas úgyséval is erősítette, gondolta hát magában, hogy most nemtölti az időt, majd visszafelé jövet haza híjja őket.\\nMentek aztán tovább, beértek egy nagy erdőbe, ott az út egy helyenkétfelé vált, egyik se tudta a járást, elkezdtek tanácskozni, hogy merremenjenek. A mint ott tanácskoznak, egyszer, – mintha csak a föld alólbútt volna ki, vagy az égből cseppent volna, – ott termett egy szép nagyróka. A királyfi a mint meglátta, nyult a nyila után hogy majd meglövi,hát, uramfia, – tán nem is hinnék kendtek, ha nem mondanám, – megszólalta róka emberi nyelven:\\n– No felséges királyfi hát eltévedtek, vagy min tanácskoznak?\\n– Hiszen nem tévedtünk épen el – felelt neki a királyfi, – hanem aztcsakugyan nem tudjuk, hogy e közül a két út közül melyik visz aVerestengerhez. Hát miért kérded?\\n– Csak azért, mert én útba tudom igazitani a királyfit, tudom a járástezen a tájékon. De hát mért mennek a Verestengerhez?', metadata={'source': 'book.txt'})"
      ]
     },
     "execution_count": 86,
     "metadata": {},
     "output_type": "execute_result"
    }
   ],
   "source": [
    "docs[10]"
   ]
  },
  {
   "cell_type": "code",
   "execution_count": 88,
   "id": "2cf1f7ec",
   "metadata": {},
   "outputs": [
    {
     "name": "stdout",
     "output_type": "stream",
     "text": [
      "Running Chroma using direct local API.\n",
      "Using DuckDB in-memory for database. Data will be transient.\n"
     ]
    }
   ],
   "source": [
    "from langchain.embeddings import HuggingFaceEmbeddings\n",
    "from langchain.vectorstores import Chroma\n",
    "\n",
    "embeddings = HuggingFaceEmbeddings(model_name='paraphrase-multilingual-MiniLM-L12-v2')\n",
    "docsearch = Chroma.from_documents(docs, embeddings)"
   ]
  },
  {
   "cell_type": "code",
   "execution_count": 89,
   "id": "d4bd8fb9",
   "metadata": {},
   "outputs": [
    {
     "data": {
      "text/plain": [
       "384"
      ]
     },
     "execution_count": 89,
     "metadata": {},
     "output_type": "execute_result"
    }
   ],
   "source": [
    "scores = embeddings.embed_documents([\"What did Zsuzska steal from the devil?\"])[0]\n",
    "len(scores)"
   ]
  },
  {
   "cell_type": "code",
   "execution_count": 90,
   "id": "926709a4",
   "metadata": {},
   "outputs": [
    {
     "name": "stdout",
     "output_type": "stream",
     "text": [
      "[-0.46812501549720764, 0.47161218523979187, -0.39475440979003906, 0.18969321250915527, 0.08756688982248306, 0.04914027079939842, 0.6678051948547363, 0.24234464764595032, 0.011556974612176418, 0.24045951664447784, 0.15715603530406952, 0.04403669759631157, 0.25661030411720276, -0.12375714629888535, -0.5067397356033325, 0.053942807018756866, 0.06712772697210312, 0.13114140927791595, -0.17556653916835785, 0.2375480830669403]\n"
     ]
    }
   ],
   "source": [
    "print(scores[:20])"
   ]
  },
  {
   "cell_type": "code",
   "execution_count": 92,
   "id": "cb7eb1e8",
   "metadata": {},
   "outputs": [
    {
     "data": {
      "text/plain": [
       "[Document(lc_kwargs={'page_content': 'Hiába tagadta szegény Zsuzska, nem használt semmit, elindult hát nagyszomorúan. Épen éjfél volt, mikor az ördög házához ért, aludt az ördögis, a felesége is. Zsuzska csendesen belopódzott, ellopta a tenger-ütőpálczát, avval bekiáltott az ablakon.\\n– Hej ördög, viszem ám már a tenger-ütő pálczádat is.\\n– Hej kutya Zsuzska, megöletted három szép lyányomat, elloptad atenger-lépő czipőmet, most viszed a tenger-ütő pálczámat, de majdmeglakolsz te ezért.\\nUtána is szaladt, de megint csak a tengerparton tudott közel jutnihozzá, ott meg Zsuzska megütötte a tengert a tenger-ütő pálczával,kétfelé vált előtte, utána meg összecsapódott, megint nem foghatta megaz ördög. Zsuzska ment egyenesen a királyhoz.\\n– No felséges király, elhoztam már a tengerütő pálczát is.', 'metadata': {'source': 'book.txt'}}, page_content='Hiába tagadta szegény Zsuzska, nem használt semmit, elindult hát nagyszomorúan. Épen éjfél volt, mikor az ördög házához ért, aludt az ördögis, a felesége is. Zsuzska csendesen belopódzott, ellopta a tenger-ütőpálczát, avval bekiáltott az ablakon.\\n– Hej ördög, viszem ám már a tenger-ütő pálczádat is.\\n– Hej kutya Zsuzska, megöletted három szép lyányomat, elloptad atenger-lépő czipőmet, most viszed a tenger-ütő pálczámat, de majdmeglakolsz te ezért.\\nUtána is szaladt, de megint csak a tengerparton tudott közel jutnihozzá, ott meg Zsuzska megütötte a tengert a tenger-ütő pálczával,kétfelé vált előtte, utána meg összecsapódott, megint nem foghatta megaz ördög. Zsuzska ment egyenesen a királyhoz.\\n– No felséges király, elhoztam már a tengerütő pálczát is.', metadata={'source': 'book.txt'}),\n",
       " Document(lc_kwargs={'page_content': '– No felséges király, elhoztam már a tengerütő pálczát is.\\nA király még jobban megszerette Zsuzskát, hogy olyan életre való, de anénjei még jobban irigykedtek rá, csakhamar megint avval árulták be,hogy van annak az ördögnek egy arany fej káposztája is, Zsuzska azt isel tudná lopni, azt mondta. A király megint ráparancsolt Zsuzskára erősparancsolattal, hogy ha a káposztát el nem lopja, halálnak halálával halmeg.\\nElindult hát szegény Zsuzska megint, el is ért szerencsésen épen éjfélreaz ördög kertjibe, levágta az arany fej káposztát, avval bekiáltott azablakon.\\n– Hej ördög, viszem ám már az arany fej káposztádat is.\\n– Hej kutya Zsuzska, megöletted három szép lyányomat, elloptad atenger-lépő czipőmet, elloptad a tenger-ütő pálczámat, most viszed azarany fej káposztámat, csak ezt az egyet add vissza, soha szemedre sevetem.', 'metadata': {'source': 'book.txt'}}, page_content='– No felséges király, elhoztam már a tengerütő pálczát is.\\nA király még jobban megszerette Zsuzskát, hogy olyan életre való, de anénjei még jobban irigykedtek rá, csakhamar megint avval árulták be,hogy van annak az ördögnek egy arany fej káposztája is, Zsuzska azt isel tudná lopni, azt mondta. A király megint ráparancsolt Zsuzskára erősparancsolattal, hogy ha a káposztát el nem lopja, halálnak halálával halmeg.\\nElindult hát szegény Zsuzska megint, el is ért szerencsésen épen éjfélreaz ördög kertjibe, levágta az arany fej káposztát, avval bekiáltott azablakon.\\n– Hej ördög, viszem ám már az arany fej káposztádat is.\\n– Hej kutya Zsuzska, megöletted három szép lyányomat, elloptad atenger-lépő czipőmet, elloptad a tenger-ütő pálczámat, most viszed azarany fej káposztámat, csak ezt az egyet add vissza, soha szemedre sevetem.', metadata={'source': 'book.txt'}),\n",
       " Document(lc_kwargs={'page_content': 'De Zsuzska nem adta;,,Tán bolond vagyok, hogy visszaadjam, mikor kivülvagyok már vele az udvaron?!’’ Az ördög kergette egy darabig, de sehogyse tudta utolérni, utoljára is visszafordult, Zsuzska pedig mentegyenesen a király elibe, od’adta neki az arany fej káposztát.\\n– No felséges király elhoztam már ezt is!\\nA két nénjét Zsuzskának, majd hogy meg nem ütötte a guta, mikormegtudták, hogy Zsuzskának most se’ lett semmi baja, másnap megintbementek a királyhoz.\\n– Jaj felséges király van még annak az ördögnek egy arany kis gyermekeis arany bölcsőben, Zsuzska azt beszéli fűnek-fának, hogy ő azt is eltudná lopni.\\nMegint behivatta a király Zsuzskát.\\n– Fiam Zsuzska, azt hallottam, hogy van annak az ördögnek egy arany kisgyermeke is, arany bölcsőben, te azt is el tudod lopni, azt beszélted,azért ha az éjjel el nem lopod, halálnak halálával halsz meg.', 'metadata': {'source': 'book.txt'}}, page_content='De Zsuzska nem adta;,,Tán bolond vagyok, hogy visszaadjam, mikor kivülvagyok már vele az udvaron?!’’ Az ördög kergette egy darabig, de sehogyse tudta utolérni, utoljára is visszafordult, Zsuzska pedig mentegyenesen a király elibe, od’adta neki az arany fej káposztát.\\n– No felséges király elhoztam már ezt is!\\nA két nénjét Zsuzskának, majd hogy meg nem ütötte a guta, mikormegtudták, hogy Zsuzskának most se’ lett semmi baja, másnap megintbementek a királyhoz.\\n– Jaj felséges király van még annak az ördögnek egy arany kis gyermekeis arany bölcsőben, Zsuzska azt beszéli fűnek-fának, hogy ő azt is eltudná lopni.\\nMegint behivatta a király Zsuzskát.\\n– Fiam Zsuzska, azt hallottam, hogy van annak az ördögnek egy arany kisgyermeke is, arany bölcsőben, te azt is el tudod lopni, azt beszélted,azért ha az éjjel el nem lopod, halálnak halálával halsz meg.', metadata={'source': 'book.txt'}),\n",
       " Document(lc_kwargs={'page_content': 'Kergette is az ördög jó darabig, már im hogy utól nem érte, de épen egytenger mellé jutottak, ott Zsuzska felhúzta a tenger-lépő czipőt,átlépte vele a tengert. Avval ment egyenesen a királyhoz.\\n– No felséges király, elhoztam már a tenger-lépő czipőt!\\nA király nagyon megörült neki, még jobban megszerette Zsuzskát. A nénjeinagyon elbámultak, mikor megtudták, hogy Zsuzska szerencsésen ellopta atenger-lépő czipőt; másnap megint bementek a királyhoz.\\n– Jaj felséges király, van annak az ördögnek egy tenger-ütő pálczája is,a mivel ha akar milyen mély tengerre ráütnek, kétfelé válik, hogy szárazlábbal keresztül lehet rajta menni, Zsuzska azt mondta, hogy azt is eltudná lopni.\\nMegint behivatta a király Zsuzskát.\\n– No Zsuzska, azt hallottam, hogy van annak az ördögnek egy tenger-ütőpálczája, te azt is el tudnád lopni, azért ha azt az éjtszaka el nemlopod, halálnak halálával halsz meg.', 'metadata': {'source': 'book.txt'}}, page_content='Kergette is az ördög jó darabig, már im hogy utól nem érte, de épen egytenger mellé jutottak, ott Zsuzska felhúzta a tenger-lépő czipőt,átlépte vele a tengert. Avval ment egyenesen a királyhoz.\\n– No felséges király, elhoztam már a tenger-lépő czipőt!\\nA király nagyon megörült neki, még jobban megszerette Zsuzskát. A nénjeinagyon elbámultak, mikor megtudták, hogy Zsuzska szerencsésen ellopta atenger-lépő czipőt; másnap megint bementek a királyhoz.\\n– Jaj felséges király, van annak az ördögnek egy tenger-ütő pálczája is,a mivel ha akar milyen mély tengerre ráütnek, kétfelé válik, hogy szárazlábbal keresztül lehet rajta menni, Zsuzska azt mondta, hogy azt is eltudná lopni.\\nMegint behivatta a király Zsuzskát.\\n– No Zsuzska, azt hallottam, hogy van annak az ördögnek egy tenger-ütőpálczája, te azt is el tudnád lopni, azért ha azt az éjtszaka el nemlopod, halálnak halálával halsz meg.', metadata={'source': 'book.txt'})]"
      ]
     },
     "execution_count": 92,
     "metadata": {},
     "output_type": "execute_result"
    }
   ],
   "source": [
    "# k=1 because we only want one result\n",
    "docsearch.similarity_search(\"What did Zsuzska steal from the devil?\", k=4)"
   ]
  },
  {
   "cell_type": "markdown",
   "id": "744356dd",
   "metadata": {},
   "source": [
    "## Document-based question-and-answer\n",
    "\n",
    "We can then use the related documents to answer questions. The example below sends the top few results to GPT along with our question. This is called **document-based question-and-answer with semantic search**. Be careful, though, it isn't perfect!"
   ]
  },
  {
   "cell_type": "code",
   "execution_count": 107,
   "id": "e887e065",
   "metadata": {},
   "outputs": [],
   "source": [
    "from langchain.chat_models import ChatOpenAI\n",
    "\n",
    "# You'll need your own OpenAI GPT API key!\n",
    "# https://platform.openai.com/apps\n",
    "# API_KEY = \"sk-XXXXX\"\n",
    "\n",
    "# Faster/cheaper\n",
    "MODEL = 'gpt-3.5-turbo'\n",
    "\n",
    "# Better results (I'm impatient, so we're using turbo!)\n",
    "# MODEL = 'gpt-4'\n",
    "\n",
    "llm = ChatOpenAI(openai_api_key=API_KEY, model_name=MODEL, temperature=0)"
   ]
  },
  {
   "cell_type": "code",
   "execution_count": 108,
   "id": "409e20f9",
   "metadata": {},
   "outputs": [],
   "source": [
    "from langchain.chains import RetrievalQAWithSourcesChain\n",
    "\n",
    "chain = RetrievalQAWithSourcesChain.from_chain_type(\n",
    "    llm=llm,\n",
    "    chain_type=\"stuff\",\n",
    "    retriever=docsearch.as_retriever()\n",
    ")"
   ]
  },
  {
   "cell_type": "code",
   "execution_count": 109,
   "id": "0acbb4cd",
   "metadata": {},
   "outputs": [
    {
     "name": "stdout",
     "output_type": "stream",
     "text": [
      "Zsuzska stole the tenger-ütő pálczát (a special rod) from the devil.\n"
     ]
    }
   ],
   "source": [
    "query = \"What did Zsuzska steal from the devil?\"\n",
    "\n",
    "result = qa.run(query)\n",
    "print(result)"
   ]
  },
  {
   "cell_type": "code",
   "execution_count": 110,
   "id": "667406fa",
   "metadata": {},
   "outputs": [
    {
     "name": "stdout",
     "output_type": "stream",
     "text": [
      "Zsuzska stole the tenger-ütő pálczát (a staff that can split the sea), the arany fej káposztát (a golden cabbage head), and the tenger-lépő czipőt (a pair of shoes that allow walking on water).\n"
     ]
    }
   ],
   "source": [
    "query = \"What did Zsuzska steal from the devil? Be sure to name everything!\"\n",
    "\n",
    "result = qa.run(query)\n",
    "print(result)"
   ]
  },
  {
   "cell_type": "markdown",
   "id": "988b30f0",
   "metadata": {},
   "source": [
    "## Transcription\n",
    "\n",
    "We can use [Whisper](https://github.com/openai/whisper) to transcribe audio."
   ]
  },
  {
   "cell_type": "code",
   "execution_count": 115,
   "id": "3eb6ebdd",
   "metadata": {},
   "outputs": [],
   "source": [
    "import whisper"
   ]
  },
  {
   "cell_type": "code",
   "execution_count": 113,
   "id": "f51bda8c",
   "metadata": {},
   "outputs": [
    {
     "name": "stderr",
     "output_type": "stream",
     "text": [
      "/Users/soma/.pyenv/versions/3.10.3/Library/Frameworks/Python.framework/Versions/3.10/lib/python3.10/site-packages/whisper/transcribe.py:114: UserWarning: FP16 is not supported on CPU; using FP32 instead\n",
      "  warnings.warn(\"FP16 is not supported on CPU; using FP32 instead\")\n"
     ]
    },
    {
     "data": {
      "text/plain": [
       "\" Okay, I was wondering if you could tell me a little bit about the program, what exactly goes on and... Okay, well basically it's an intensive program designed to last four weeks, in session four weeks long, although we do have two sessions in 1996 that will be two weeks long. But our general four week session involves seven hours of contact each day of Spanish. It involves starting at 9 o'clock in the morning with three hours of grammar instruction, and then it's followed immediately by an hour of group conversation with the same instructors, same class, but we have extensive gardens here at Institute and so students will usually know how to a garden setting because it's a bit more comfortable. And then after a break for lunch, students return and we have a complete flip of instruction and that instead of textbook and clinical type instruction, we have hands-on and we have we offer workshops and me-hey-backstrap weaving, regional cooking of Wahaka at Zompusnell pottery, and if we have large groups, we also offer folklore dance and those are two hours a day, Monday through Thursday. And they're really in place, not so much to teach students a craft, but they're in place to facilitate Spanish language acquisition with the hands-on project. It's our our belief that using the language will give students an opportunity to have better retention. You can use it, they feel a little bit more comfortable, the vocabulary expands and whatnot. And then the last hour is a daily intercombo hour, and that's where someone from the community in Wahaka comes to the Institute and they work with one of our students one on one as a conversation partner. And if the students here at the Institute were English speaking, English being their native language, then half the time would be an English, half the time would be in Spanish. And we offer included in the course our lectures, weekly lectures, and we have films and other cultural presentations. And all that is included within the same package. We also offer optional tours on the weekends, going to points of interest around Wahaka. I don't know if you're familiar with Wahaka, but it's really rich with archaeological sites and indigenous marketplaces and craft villages. So there's a lot to see. Is this the program geared primarily toward beginning level? No, we offer seven different levels ranging from true beginners, people who know absolutely nothing about Spanish all the way up through advanced and literature levels. So we have something for everybody. When you arrive, we would give you a placement test. It's a two-part test. The first part is written. And it would test you on President Tans, direct and indirect objects, goes all the way to subjective and then you actually do some writing as well. And after an instructor would grade that, then they would speak with you. And that would be the second portion of the test. They would ask you a lot of questions about why you're here studying Spanish, where you're from, why are you interested in Spanish in particular as opposed to some other language, how you visited other places within Mexico and whatnot. They're really zeroing in, how you use the language when you're speaking. And that helped them to more fine tune where they placed you. How many people are in each group? We have a maximum according to our brochure as Tan, although we have never had a group of Tan, averages more around six and it can be lower. We've had groups of one before. So a group, I don't think that's a group. How long is the program? It's designed to last four weeks, but students can come by the week if they wish. We advise if they do come by the week that they try to come at the beginning of the session so they don't have instructional gaps. For example, if the class is going on three weeks, then we suddenly have a student arrive the end of the second or third week. It can be a little bit difficult and that student will enter into a class that's been in session already two or three weeks. We frequently do have students who don't arrive at the beginning because their schedules don't allow them to have conformity to our schedule. And they do it. I have been a student here several times myself. I'm now the assistant director. When I first came, I came the last two weeks of the December session and the first two weeks of the January session. It was doable. It was difficult the last two weeks, but I did it. It was the only time I had to operate with. It was alright. Of course, the January session when I started with the rest of the group at the beginning of the session was more easy to feel the flow of the class right away because the ground rules were there in front of me. And are the accommodations there on premises or... No. We offer several options. The vast majority of our students take host family homes as the way to go when they're here in Waxaca. They pay a base price of $11 a day and that includes a private room and full breakfast. And it may or may not include a private bath. It really depends on each family. It's not a hotel. It's a home. And the idea isn't so much for luxury. It's more for really communicating with people and to get to know the culture by way of the people. And the vast majority of the homes are up from middle class to lower upper class. The very nice home is when the families that we've worked with for years. If a student wishes other meals with the host family, for an additional $4 a day, the student can have commedit, which is the large midday meal. As you can eat very, very well in Waxaca on $4, but the $4 meal would be primarily for the purposes of interacting with the host family. And then there's the saying out, which is the very light, very late evening meal. That's anywhere between 730, 9 o'clock at night. That's an additional $2. It can be a simple as panel say and a cup of hot chocolate. And it's not formal. It's not formal. It's not formal meal the way the saying is. Would it be possible to accommodate vegetarians? Oh yeah, we do that all the time. We're very used to it. Especially here in Waxaca, well, in Mexico in general, with tortillas and beans and all the well-to-fruits and vegetables, it would be very simple. If students don't want to homstay and they wish to have alternative accommodations, we can help with apartments and hotels and that sort of thing. They would need to send the deposit. A lot of people when they call us, they don't really speak enough Spanish. They don't feel comfortable enough with their Spanish to make reservations. Other hotels close by. Flots. Okay. The F is that you offer workshops and cooking as well. We being in pottery. And sometimes, camps. Folklark camps. And that's all incorporated into the program. Uh-huh. That would also be for six weeks, if you say. No four weeks. Before weeks. I see. And could you give me some ideas to what the price might be? Okay, the price is at $1,50 registration fee and $400 for the session or $100 by the week. Or $100 by the week. Okay. Um, and do you have any more printed information on? We have a brochure. Uh-huh. Would it be possible that send me one? Sure will. Let me grab a piece of paper hold on just one moment. Okay. Okay. My name is Richard Ganneth. Did you start your last thing? Yeah. G-A-N-I-S. Hasn't Sam. And my address is... G-A-N-I-S. Right. Okay. I heard an F there. Okay. Uh-huh. And my address is $602. Herst Avenue. H-E-A-R-S-P. Herst Avenue in Berkeley. California. And I can believe it's my grandmother that lived on herst Avenue for years. Oh really? There's now a park there along along Park State State. Yeah, a lot of people are there. They demolished her house, which is too bad. Which is it? And it's $9.4. $7.03. Okay. Yeah, they're right across the park there. Yeah. No, there was a railroad track or something that were there. And I remember playing there when we visited it a couple of times when I was a child. I went back for the first time in years, just about two years ago and I was done to see that the house was completely gone and there was a park in the place. It's like a dog park now. They let the dogs on this. Yeah. That'll be good. Well, I'm going to repeat this address back to make sure that I've got it right. Okay. I've got Richard Gannis, G-A-N-I-S, $602. Herst Avenue, H-E-A-R-S-P. Berkeley, California, 94703. Right. Okay. Good day. Great. I appreciate that. Well, you're welcome. And I appreciate you letting this call be recorded as well. That's fine. Okay. Thanks for your attention. Bye-bye.\""
      ]
     },
     "execution_count": 113,
     "metadata": {},
     "output_type": "execute_result"
    }
   ],
   "source": [
    "%%time\n",
    "\n",
    "model = whisper.load_model(\"tiny\")\n",
    "\n",
    "result = model.transcribe(\"6313.mp3\")\n",
    "result['text']"
   ]
  },
  {
   "cell_type": "code",
   "execution_count": 114,
   "id": "e59c4c24",
   "metadata": {},
   "outputs": [
    {
     "name": "stderr",
     "output_type": "stream",
     "text": [
      "/Users/soma/.pyenv/versions/3.10.3/Library/Frameworks/Python.framework/Versions/3.10/lib/python3.10/site-packages/whisper/transcribe.py:114: UserWarning: FP16 is not supported on CPU; using FP32 instead\n",
      "  warnings.warn(\"FP16 is not supported on CPU; using FP32 instead\")\n"
     ]
    },
    {
     "name": "stdout",
     "output_type": "stream",
     "text": [
      "CPU times: user 1min 4s, sys: 9.13 s, total: 1min 14s\n",
      "Wall time: 47.2 s\n"
     ]
    },
    {
     "data": {
      "text/plain": [
       "\" Okay, I was wondering if you could tell me a little bit about the program. What exactly goes on? Okay, well basically it's an intensive program designed to last four weeks, each session is four weeks long, although we do have two sessions in 1996 that will be two weeks long. But our general four weeks session involves seven hours of contact each day of Spanish. It involves starting at nine o'clock in the morning with three hours of grammar instruction. And then it's followed immediately by an hour of group conversation with the same instructor, same class, but we have extensive gardens here at the Institute and so students will usually go out to a garden setting because it's a little more comfortable. And then after a break for lunch, students return and we have a complete flip of instruction in that instead of textbook and clinical type instruction, we have hands on and we offer workshops in Mejibak's drop leaving, regional cooking of Wahaka at Donpas-Nal pottery. And if we have large groups, we also offer folkloric dance. And those are two hours a day, Monday through Thursday. And they're really in place not so much to teach students a craft, but they're in place to facilitate Spanish language acquisition with a hands on project. It's our belief that using the language will give students an opportunity to have better retention. Each time they use it, they feel a little bit more comfortable. The vocabulary expands and whatnot. And then the last hour is a daily intercombio hour and that's where someone from the community in Wahaka comes to the Institute. They work with one of our students, one-on-one as a conversation partner. And if the students, here at the Institute, were English speaking, English being their native language, then half the time would be in English, half the time would be in Spanish. And we offer included in the course our lectures, weekly lectures, and we have films and other cultural presentations. And all that is included within the same package. We also offer optional tours on the weekends, going to points of interest around Wahaka. Wahaka, I don't know if you're familiar with Wahaka, but it's really rich with archaeological sites and indigenous marketplaces and craft villages. So there's a lot to see. Is the program geared primarily toward beginning level of the speakers? We offer seven different levels ranging from true beginners, people who know absolutely nothing about Spanish all the way up through advanced and literature levels. So we have something for everybody. When you arrive, we would give you a placement test. It's a two-part test. The first part is written and it would test you on present tense, direct and indirect objects, goes all the way up to subjunctive and then you actually do some writing as well. And after an instructor would grade that, then they would speak with you and that would be the second portion of the test. They would ask you a lot of questions about why you're here studying Spanish, where you're from, why are you interested in Spanish in particular as opposed to some other language, have you visited other places within Mexico and whatnot. They're really zeroing in how you use the language when you're speaking. And that helped them to more fine tune where they place you. How many people are in each group? Maximum, according to our brochures, 10, although we have never had a group of 10. Average is more around six and it can be lower. We've had groups of one before. I don't think that's a group. And how long is the program? It's designed to last four weeks but students can come by the week if they wish. They advise if they do come by the week that they try to come at the beginning of the session so they don't have instructional gaps. When, for example, if the class is going on three weeks and then we suddenly have a student arrive at the end of the second or third week, it can be a little bit difficult and that student will enter into a class that's been in session already two or three weeks. We frequently though do have students who don't arrive at the beginning because their schedules don't allow them to have conformity to our schedule. And they do it. I have been a student here several times myself. I'm now the assistant director. And when I first came, I came the last two weeks of the December session and the first two weeks of the January session. And it was doable. It was difficult the last two weeks but I did it. It was the only time I had to operate with and so it was all right. And then of course the January session when I started with the rest of the group at the beginning of the session was more easy to feel the flow of the class right away because the ground rules were there in front of me. And are the accommodations there on premises or? No. We offer several options. The vast majority of the students take host family homes as the way to go when they're here in Wahaka. They pay a base price of $11 a day and that includes a private room and full breakfast. And it may or may not include a private bath. It really depends on each family. We tell the students that it's not a hotel. It's a home. And the idea isn't so much for luxury. It's more for really communicating with people and to getting to know the culture by way of the people. And the vast majority of the homes are up from middle class to lower up or class. The very nice homes and the families that we've worked with for years. If a student wishes other meals with the host family for an additional $4 a day the student can have comita which is a large midday meal. And you can eat very well in Wahaka on $4. But the $4 meal would be primarily for the purposes of interacting with the host family. And then there's the say now which is the very late evening meal that's anywhere between 7th, 39 o'clock at night. It's an additional $2. It can be as simple as Pandals say in a cup of hot chocolate. But it's not formal. It's not formal meal the way the thing is. Would it be possible to accommodate vegetarians? Oh yeah, we do that all the time. We're very used to it. Especially here in Wahaka well in Mexico in general with tortillas and beans and all the wealth of fruits and vegetables. It would be very simple. If students don't want to home stay and they wish to have alternative accommodations we can help with apartments and hotels and that sort of thing. They would need to send the deposit. But a lot of people when they call us they don't really speak enough Spanish or they don't feel comfortable enough with their Spanish to make reservations. Are there hotels close by? Flots, yeah. Okay. The answers that you offer workshops and cooking as well. Weaving and pottery. And sometimes dance. Vocal or dance. And that's all incorporated into the program. Uh-huh. I see. And so say I wanted to enroll in the beginning program. That would also be for six weeks, did you say? No four weeks. Four weeks. I see. And could you give me some ideas to what the price might be? Okay. The price is a one-time $50 registration fee and $400 for the session or $100 by the week. Or $100 by the week. Okay. And do you have any more printed information on? We have a brochure. Uh-huh. Would it be possible to send me one? Sure will. Let me grab a piece of paper. Hold on just one moment. Okay. Okay. Okay. My name is Richard Gannis. Did you say you were laughing? Yeah. It's G-A-N-I-S as in Sam. And my address is G-A-N-I-S. Right. Okay. I thought I heard an F there. Okay. Uh-huh. And my address is 16-02-HERSP Avenue H-E-A-R-S-P. HERSP Avenue in Berkeley, California. You know, I can believe it's my grandmother that lived on Herst Avenue for years. Oh really? There's now a park there, a long, long park in the city. Yeah, a long, very park. Debollished her house, which is too bad. Which was it? I think it's 9-4-703. Okay. Yeah, they're right across from the park there. Yeah. No, there was a railroad track or something that were there. I remember playing there when we visited her a couple of times when I was a child. But I went back for the first time in years, just about two years ago, and was stunned to see that the house was completely gone. And there was a park in this place. It's like a dog park now. They let the dogs run there. I don't know. I don't know. Wait, I'm going to repeat this address back to make sure that I've got it right. Okay. I've got Richard Gannis, GA NIS, 1602 HERSP Avenue, H-E-A-R-S-T, Berkeley, California, 9-4-703. Right. Okay. Well, I'll get this up to you today. Great. I appreciate that. Well, you're welcome. And I appreciate you letting this call be recorded as well. That's fine. Okay, thanks very much. Bye-bye. Bye-bye.\""
      ]
     },
     "execution_count": 114,
     "metadata": {},
     "output_type": "execute_result"
    }
   ],
   "source": [
    "%%time\n",
    "\n",
    "model = whisper.load_model(\"base\")\n",
    "\n",
    "result = model.transcribe(\"6313.mp3\")\n",
    "result['text']"
   ]
  },
  {
   "cell_type": "markdown",
   "id": "b6dd8c0a",
   "metadata": {},
   "source": [
    "## What do you want to try to do?"
   ]
  },
  {
   "cell_type": "code",
   "execution_count": null,
   "id": "d97dbd29",
   "metadata": {},
   "outputs": [],
   "source": []
  }
 ],
 "metadata": {
  "kernelspec": {
   "display_name": "Python 3 (ipykernel)",
   "language": "python",
   "name": "python3"
  },
  "language_info": {
   "codemirror_mode": {
    "name": "ipython",
    "version": 3
   },
   "file_extension": ".py",
   "mimetype": "text/x-python",
   "name": "python",
   "nbconvert_exporter": "python",
   "pygments_lexer": "ipython3",
   "version": "3.10.3"
  }
 },
 "nbformat": 4,
 "nbformat_minor": 5
}
